{
 "cells": [
  {
   "cell_type": "markdown",
   "metadata": {},
   "source": [
    "# Data understanding and Preprocessing"
   ]
  },
  {
   "cell_type": "code",
   "execution_count": 164,
   "metadata": {
    "collapsed": true
   },
   "outputs": [],
   "source": [
    "# importing all necessary libraries\n",
    "\n",
    "import pandas as pd\n",
    "import numpy as np\n",
    "import matplotlib.pyplot as plt\n",
    "import seaborn as sns\n",
    "import numpy.random as nr\n",
    "import math\n",
    "import plotly.express as px\n",
    "from scipy import stats\n",
    "from sklearn import preprocessing\n",
    "import sklearn.model_selection as ms\n",
    "from sklearn import linear_model\n",
    "import sklearn.metrics as sklm\n",
    "import os\n",
    "\n",
    "#To display graphics inline\n",
    "%matplotlib inline"
   ]
  },
  {
   "cell_type": "code",
   "execution_count": 165,
   "metadata": {},
   "outputs": [
    {
     "data": {
      "text/plain": [
       "['.git',\n",
       " '.ipynb_checkpoints',\n",
       " 'Customer_Churn_Prediction.ipynb',\n",
       " 'README.md',\n",
       " 'sample_submission.csv',\n",
       " 'Test.csv',\n",
       " 'Train.csv',\n",
       " 'VariableDefinitions.csv']"
      ]
     },
     "execution_count": 165,
     "metadata": {},
     "output_type": "execute_result"
    }
   ],
   "source": [
    "\n",
    "os.listdir()"
   ]
  },
  {
   "cell_type": "code",
   "execution_count": 166,
   "metadata": {
    "collapsed": true
   },
   "outputs": [],
   "source": [
    "#load the dataset\n",
    "train = pd.read_csv('Train.csv')\n",
    "test = pd.read_csv('Test.csv')"
   ]
  },
  {
   "cell_type": "code",
   "execution_count": 167,
   "metadata": {},
   "outputs": [
    {
     "data": {
      "text/html": [
       "<div>\n",
       "<style>\n",
       "    .dataframe thead tr:only-child th {\n",
       "        text-align: right;\n",
       "    }\n",
       "\n",
       "    .dataframe thead th {\n",
       "        text-align: left;\n",
       "    }\n",
       "\n",
       "    .dataframe tbody tr th {\n",
       "        vertical-align: top;\n",
       "    }\n",
       "</style>\n",
       "<table border=\"1\" class=\"dataframe\">\n",
       "  <thead>\n",
       "    <tr style=\"text-align: right;\">\n",
       "      <th></th>\n",
       "      <th>user_id</th>\n",
       "      <th>REGION</th>\n",
       "      <th>TENURE</th>\n",
       "      <th>MONTANT</th>\n",
       "      <th>FREQUENCE_RECH</th>\n",
       "      <th>REVENUE</th>\n",
       "      <th>ARPU_SEGMENT</th>\n",
       "      <th>FREQUENCE</th>\n",
       "      <th>DATA_VOLUME</th>\n",
       "      <th>ON_NET</th>\n",
       "      <th>ORANGE</th>\n",
       "      <th>TIGO</th>\n",
       "      <th>ZONE1</th>\n",
       "      <th>ZONE2</th>\n",
       "      <th>MRG</th>\n",
       "      <th>REGULARITY</th>\n",
       "      <th>TOP_PACK</th>\n",
       "      <th>FREQ_TOP_PACK</th>\n",
       "      <th>CHURN</th>\n",
       "    </tr>\n",
       "  </thead>\n",
       "  <tbody>\n",
       "    <tr>\n",
       "      <th>0</th>\n",
       "      <td>dcf68cc2fb515ccad7d8b9b3bd80ee2a4b270063</td>\n",
       "      <td>SAINT-LOUIS</td>\n",
       "      <td>K &gt; 24 month</td>\n",
       "      <td>17000.0</td>\n",
       "      <td>32.0</td>\n",
       "      <td>18000.0</td>\n",
       "      <td>6000.0</td>\n",
       "      <td>34.0</td>\n",
       "      <td>NaN</td>\n",
       "      <td>97.0</td>\n",
       "      <td>355.0</td>\n",
       "      <td>6.0</td>\n",
       "      <td>NaN</td>\n",
       "      <td>NaN</td>\n",
       "      <td>NO</td>\n",
       "      <td>62</td>\n",
       "      <td>All-net 500F=2000F;5d</td>\n",
       "      <td>35.0</td>\n",
       "      <td>0</td>\n",
       "    </tr>\n",
       "    <tr>\n",
       "      <th>1</th>\n",
       "      <td>71c44b5ba328db5c4192a80f7cf8f244d9350ed0</td>\n",
       "      <td>NaN</td>\n",
       "      <td>K &gt; 24 month</td>\n",
       "      <td>4300.0</td>\n",
       "      <td>29.0</td>\n",
       "      <td>4427.0</td>\n",
       "      <td>1476.0</td>\n",
       "      <td>37.0</td>\n",
       "      <td>1764.0</td>\n",
       "      <td>8.0</td>\n",
       "      <td>3.0</td>\n",
       "      <td>0.0</td>\n",
       "      <td>NaN</td>\n",
       "      <td>2.0</td>\n",
       "      <td>NO</td>\n",
       "      <td>40</td>\n",
       "      <td>Data: 100 F=40MB,24H</td>\n",
       "      <td>22.0</td>\n",
       "      <td>0</td>\n",
       "    </tr>\n",
       "  </tbody>\n",
       "</table>\n",
       "</div>"
      ],
      "text/plain": [
       "                                    user_id       REGION        TENURE  \\\n",
       "0  dcf68cc2fb515ccad7d8b9b3bd80ee2a4b270063  SAINT-LOUIS  K > 24 month   \n",
       "1  71c44b5ba328db5c4192a80f7cf8f244d9350ed0          NaN  K > 24 month   \n",
       "\n",
       "   MONTANT  FREQUENCE_RECH  REVENUE  ARPU_SEGMENT  FREQUENCE  DATA_VOLUME  \\\n",
       "0  17000.0            32.0  18000.0        6000.0       34.0          NaN   \n",
       "1   4300.0            29.0   4427.0        1476.0       37.0       1764.0   \n",
       "\n",
       "   ON_NET  ORANGE  TIGO  ZONE1  ZONE2 MRG  REGULARITY               TOP_PACK  \\\n",
       "0    97.0   355.0   6.0    NaN    NaN  NO          62  All-net 500F=2000F;5d   \n",
       "1     8.0     3.0   0.0    NaN    2.0  NO          40   Data: 100 F=40MB,24H   \n",
       "\n",
       "   FREQ_TOP_PACK  CHURN  \n",
       "0           35.0      0  \n",
       "1           22.0      0  "
      ]
     },
     "execution_count": 167,
     "metadata": {},
     "output_type": "execute_result"
    }
   ],
   "source": [
    "train.head(2)"
   ]
  },
  {
   "cell_type": "code",
   "execution_count": 168,
   "metadata": {},
   "outputs": [
    {
     "data": {
      "text/html": [
       "<div>\n",
       "<style>\n",
       "    .dataframe thead tr:only-child th {\n",
       "        text-align: right;\n",
       "    }\n",
       "\n",
       "    .dataframe thead th {\n",
       "        text-align: left;\n",
       "    }\n",
       "\n",
       "    .dataframe tbody tr th {\n",
       "        vertical-align: top;\n",
       "    }\n",
       "</style>\n",
       "<table border=\"1\" class=\"dataframe\">\n",
       "  <thead>\n",
       "    <tr style=\"text-align: right;\">\n",
       "      <th></th>\n",
       "      <th>user_id</th>\n",
       "      <th>REGION</th>\n",
       "      <th>TENURE</th>\n",
       "      <th>MONTANT</th>\n",
       "      <th>FREQUENCE_RECH</th>\n",
       "      <th>REVENUE</th>\n",
       "      <th>ARPU_SEGMENT</th>\n",
       "      <th>FREQUENCE</th>\n",
       "      <th>DATA_VOLUME</th>\n",
       "      <th>ON_NET</th>\n",
       "      <th>ORANGE</th>\n",
       "      <th>TIGO</th>\n",
       "      <th>ZONE1</th>\n",
       "      <th>ZONE2</th>\n",
       "      <th>MRG</th>\n",
       "      <th>REGULARITY</th>\n",
       "      <th>TOP_PACK</th>\n",
       "      <th>FREQ_TOP_PACK</th>\n",
       "    </tr>\n",
       "  </thead>\n",
       "  <tbody>\n",
       "    <tr>\n",
       "      <th>99998</th>\n",
       "      <td>afa76e894df4201fc77eb714de7d1f262299611a</td>\n",
       "      <td>THIES</td>\n",
       "      <td>K &gt; 24 month</td>\n",
       "      <td>2500.0</td>\n",
       "      <td>4.0</td>\n",
       "      <td>2515.0</td>\n",
       "      <td>838.0</td>\n",
       "      <td>4.0</td>\n",
       "      <td>NaN</td>\n",
       "      <td>43.0</td>\n",
       "      <td>106.0</td>\n",
       "      <td>4.0</td>\n",
       "      <td>NaN</td>\n",
       "      <td>NaN</td>\n",
       "      <td>NO</td>\n",
       "      <td>16</td>\n",
       "      <td>All-net 500F=2000F;5d</td>\n",
       "      <td>5.0</td>\n",
       "    </tr>\n",
       "    <tr>\n",
       "      <th>99999</th>\n",
       "      <td>c08a2d84b87c1f5d4bb318114f508b77aa8e2663</td>\n",
       "      <td>MATAM</td>\n",
       "      <td>K &gt; 24 month</td>\n",
       "      <td>NaN</td>\n",
       "      <td>NaN</td>\n",
       "      <td>NaN</td>\n",
       "      <td>NaN</td>\n",
       "      <td>NaN</td>\n",
       "      <td>NaN</td>\n",
       "      <td>NaN</td>\n",
       "      <td>NaN</td>\n",
       "      <td>NaN</td>\n",
       "      <td>NaN</td>\n",
       "      <td>NaN</td>\n",
       "      <td>NO</td>\n",
       "      <td>7</td>\n",
       "      <td>NaN</td>\n",
       "      <td>NaN</td>\n",
       "    </tr>\n",
       "  </tbody>\n",
       "</table>\n",
       "</div>"
      ],
      "text/plain": [
       "                                        user_id REGION        TENURE  MONTANT  \\\n",
       "99998  afa76e894df4201fc77eb714de7d1f262299611a  THIES  K > 24 month   2500.0   \n",
       "99999  c08a2d84b87c1f5d4bb318114f508b77aa8e2663  MATAM  K > 24 month      NaN   \n",
       "\n",
       "       FREQUENCE_RECH  REVENUE  ARPU_SEGMENT  FREQUENCE  DATA_VOLUME  ON_NET  \\\n",
       "99998             4.0   2515.0         838.0        4.0          NaN    43.0   \n",
       "99999             NaN      NaN           NaN        NaN          NaN     NaN   \n",
       "\n",
       "       ORANGE  TIGO  ZONE1  ZONE2 MRG  REGULARITY               TOP_PACK  \\\n",
       "99998   106.0   4.0    NaN    NaN  NO          16  All-net 500F=2000F;5d   \n",
       "99999     NaN   NaN    NaN    NaN  NO           7                    NaN   \n",
       "\n",
       "       FREQ_TOP_PACK  \n",
       "99998            5.0  \n",
       "99999            NaN  "
      ]
     },
     "execution_count": 168,
     "metadata": {},
     "output_type": "execute_result"
    }
   ],
   "source": [
    "test.tail(2)"
   ]
  },
  {
   "cell_type": "code",
   "execution_count": 169,
   "metadata": {},
   "outputs": [
    {
     "data": {
      "text/plain": [
       "(400000, 19)"
      ]
     },
     "execution_count": 169,
     "metadata": {},
     "output_type": "execute_result"
    }
   ],
   "source": [
    "train.shape"
   ]
  },
  {
   "cell_type": "code",
   "execution_count": 170,
   "metadata": {},
   "outputs": [
    {
     "data": {
      "text/plain": [
       "(100000, 18)"
      ]
     },
     "execution_count": 170,
     "metadata": {},
     "output_type": "execute_result"
    }
   ],
   "source": [
    "test.shape"
   ]
  },
  {
   "cell_type": "code",
   "execution_count": 171,
   "metadata": {},
   "outputs": [
    {
     "name": "stdout",
     "output_type": "stream",
     "text": [
      "<class 'pandas.core.frame.DataFrame'>\n",
      "RangeIndex: 400000 entries, 0 to 399999\n",
      "Data columns (total 19 columns):\n",
      "user_id           400000 non-null object\n",
      "REGION            242480 non-null object\n",
      "TENURE            400000 non-null object\n",
      "MONTANT           259723 non-null float64\n",
      "FREQUENCE_RECH    259723 non-null float64\n",
      "REVENUE           265337 non-null float64\n",
      "ARPU_SEGMENT      265337 non-null float64\n",
      "FREQUENCE         265337 non-null float64\n",
      "DATA_VOLUME       203146 non-null float64\n",
      "ON_NET            254181 non-null float64\n",
      "ORANGE            233683 non-null float64\n",
      "TIGO              160614 non-null float64\n",
      "ZONE1             31690 non-null float64\n",
      "ZONE2             25513 non-null float64\n",
      "MRG               400000 non-null object\n",
      "REGULARITY        400000 non-null int64\n",
      "TOP_PACK          232671 non-null object\n",
      "FREQ_TOP_PACK     232671 non-null float64\n",
      "CHURN             400000 non-null int64\n",
      "dtypes: float64(12), int64(2), object(5)\n",
      "memory usage: 58.0+ MB\n"
     ]
    }
   ],
   "source": [
    "train.info()"
   ]
  },
  {
   "cell_type": "code",
   "execution_count": 172,
   "metadata": {},
   "outputs": [
    {
     "name": "stdout",
     "output_type": "stream",
     "text": [
      "<class 'pandas.core.frame.DataFrame'>\n",
      "RangeIndex: 100000 entries, 0 to 99999\n",
      "Data columns (total 18 columns):\n",
      "user_id           100000 non-null object\n",
      "REGION            60707 non-null object\n",
      "TENURE            100000 non-null object\n",
      "MONTANT           65049 non-null float64\n",
      "FREQUENCE_RECH    65049 non-null float64\n",
      "REVENUE           66510 non-null float64\n",
      "ARPU_SEGMENT      66510 non-null float64\n",
      "FREQUENCE         66510 non-null float64\n",
      "DATA_VOLUME       50662 non-null float64\n",
      "ON_NET            63617 non-null float64\n",
      "ORANGE            58800 non-null float64\n",
      "TIGO              40212 non-null float64\n",
      "ZONE1             7680 non-null float64\n",
      "ZONE2             6422 non-null float64\n",
      "MRG               100000 non-null object\n",
      "REGULARITY        100000 non-null int64\n",
      "TOP_PACK          58297 non-null object\n",
      "FREQ_TOP_PACK     58297 non-null float64\n",
      "dtypes: float64(12), int64(1), object(5)\n",
      "memory usage: 13.7+ MB\n"
     ]
    }
   ],
   "source": [
    "test.info()"
   ]
  },
  {
   "cell_type": "code",
   "execution_count": null,
   "metadata": {
    "collapsed": true
   },
   "outputs": [],
   "source": []
  },
  {
   "cell_type": "code",
   "execution_count": 173,
   "metadata": {},
   "outputs": [
    {
     "data": {
      "text/html": [
       "<div>\n",
       "<style>\n",
       "    .dataframe thead tr:only-child th {\n",
       "        text-align: right;\n",
       "    }\n",
       "\n",
       "    .dataframe thead th {\n",
       "        text-align: left;\n",
       "    }\n",
       "\n",
       "    .dataframe tbody tr th {\n",
       "        vertical-align: top;\n",
       "    }\n",
       "</style>\n",
       "<table border=\"1\" class=\"dataframe\">\n",
       "  <thead>\n",
       "    <tr style=\"text-align: right;\">\n",
       "      <th></th>\n",
       "      <th>MONTANT</th>\n",
       "      <th>FREQUENCE_RECH</th>\n",
       "      <th>REVENUE</th>\n",
       "      <th>ARPU_SEGMENT</th>\n",
       "      <th>FREQUENCE</th>\n",
       "      <th>DATA_VOLUME</th>\n",
       "      <th>ON_NET</th>\n",
       "      <th>ORANGE</th>\n",
       "      <th>TIGO</th>\n",
       "      <th>ZONE1</th>\n",
       "      <th>ZONE2</th>\n",
       "      <th>REGULARITY</th>\n",
       "      <th>FREQ_TOP_PACK</th>\n",
       "      <th>CHURN</th>\n",
       "    </tr>\n",
       "  </thead>\n",
       "  <tbody>\n",
       "    <tr>\n",
       "      <th>count</th>\n",
       "      <td>259723.000000</td>\n",
       "      <td>259723.000000</td>\n",
       "      <td>265337.000000</td>\n",
       "      <td>265337.000000</td>\n",
       "      <td>265337.000000</td>\n",
       "      <td>203146.000000</td>\n",
       "      <td>254181.000000</td>\n",
       "      <td>233683.000000</td>\n",
       "      <td>160614.000000</td>\n",
       "      <td>31690.000000</td>\n",
       "      <td>25513.000000</td>\n",
       "      <td>400000.000000</td>\n",
       "      <td>232671.000000</td>\n",
       "      <td>400000.00000</td>\n",
       "    </tr>\n",
       "    <tr>\n",
       "      <th>mean</th>\n",
       "      <td>5522.971346</td>\n",
       "      <td>11.503733</td>\n",
       "      <td>5505.487757</td>\n",
       "      <td>1835.167658</td>\n",
       "      <td>13.951835</td>\n",
       "      <td>3369.763441</td>\n",
       "      <td>275.917586</td>\n",
       "      <td>95.532927</td>\n",
       "      <td>23.134608</td>\n",
       "      <td>7.874282</td>\n",
       "      <td>7.187003</td>\n",
       "      <td>28.046502</td>\n",
       "      <td>9.254209</td>\n",
       "      <td>0.18711</td>\n",
       "    </tr>\n",
       "    <tr>\n",
       "      <th>std</th>\n",
       "      <td>7099.640630</td>\n",
       "      <td>13.275514</td>\n",
       "      <td>7175.802367</td>\n",
       "      <td>2391.929290</td>\n",
       "      <td>14.679943</td>\n",
       "      <td>12281.867504</td>\n",
       "      <td>873.593034</td>\n",
       "      <td>204.733272</td>\n",
       "      <td>63.061871</td>\n",
       "      <td>35.642843</td>\n",
       "      <td>26.964028</td>\n",
       "      <td>22.282773</td>\n",
       "      <td>12.305563</td>\n",
       "      <td>0.39000</td>\n",
       "    </tr>\n",
       "    <tr>\n",
       "      <th>min</th>\n",
       "      <td>20.000000</td>\n",
       "      <td>1.000000</td>\n",
       "      <td>1.000000</td>\n",
       "      <td>0.000000</td>\n",
       "      <td>1.000000</td>\n",
       "      <td>0.000000</td>\n",
       "      <td>0.000000</td>\n",
       "      <td>0.000000</td>\n",
       "      <td>0.000000</td>\n",
       "      <td>0.000000</td>\n",
       "      <td>0.000000</td>\n",
       "      <td>1.000000</td>\n",
       "      <td>1.000000</td>\n",
       "      <td>0.00000</td>\n",
       "    </tr>\n",
       "    <tr>\n",
       "      <th>25%</th>\n",
       "      <td>1000.000000</td>\n",
       "      <td>2.000000</td>\n",
       "      <td>1000.000000</td>\n",
       "      <td>333.000000</td>\n",
       "      <td>3.000000</td>\n",
       "      <td>0.000000</td>\n",
       "      <td>5.000000</td>\n",
       "      <td>7.000000</td>\n",
       "      <td>2.000000</td>\n",
       "      <td>0.000000</td>\n",
       "      <td>0.000000</td>\n",
       "      <td>6.000000</td>\n",
       "      <td>2.000000</td>\n",
       "      <td>0.00000</td>\n",
       "    </tr>\n",
       "    <tr>\n",
       "      <th>50%</th>\n",
       "      <td>3000.000000</td>\n",
       "      <td>6.000000</td>\n",
       "      <td>3000.000000</td>\n",
       "      <td>1000.000000</td>\n",
       "      <td>9.000000</td>\n",
       "      <td>267.000000</td>\n",
       "      <td>27.000000</td>\n",
       "      <td>29.000000</td>\n",
       "      <td>6.000000</td>\n",
       "      <td>1.000000</td>\n",
       "      <td>2.000000</td>\n",
       "      <td>24.000000</td>\n",
       "      <td>5.000000</td>\n",
       "      <td>0.00000</td>\n",
       "    </tr>\n",
       "    <tr>\n",
       "      <th>75%</th>\n",
       "      <td>7300.000000</td>\n",
       "      <td>15.000000</td>\n",
       "      <td>7340.000000</td>\n",
       "      <td>2447.000000</td>\n",
       "      <td>19.000000</td>\n",
       "      <td>2925.000000</td>\n",
       "      <td>155.000000</td>\n",
       "      <td>99.000000</td>\n",
       "      <td>20.000000</td>\n",
       "      <td>3.000000</td>\n",
       "      <td>5.000000</td>\n",
       "      <td>51.000000</td>\n",
       "      <td>12.000000</td>\n",
       "      <td>0.00000</td>\n",
       "    </tr>\n",
       "    <tr>\n",
       "      <th>max</th>\n",
       "      <td>226550.000000</td>\n",
       "      <td>133.000000</td>\n",
       "      <td>233413.000000</td>\n",
       "      <td>77804.000000</td>\n",
       "      <td>91.000000</td>\n",
       "      <td>934576.000000</td>\n",
       "      <td>45011.000000</td>\n",
       "      <td>6788.000000</td>\n",
       "      <td>2758.000000</td>\n",
       "      <td>1657.000000</td>\n",
       "      <td>1011.000000</td>\n",
       "      <td>62.000000</td>\n",
       "      <td>629.000000</td>\n",
       "      <td>1.00000</td>\n",
       "    </tr>\n",
       "  </tbody>\n",
       "</table>\n",
       "</div>"
      ],
      "text/plain": [
       "             MONTANT  FREQUENCE_RECH        REVENUE   ARPU_SEGMENT  \\\n",
       "count  259723.000000   259723.000000  265337.000000  265337.000000   \n",
       "mean     5522.971346       11.503733    5505.487757    1835.167658   \n",
       "std      7099.640630       13.275514    7175.802367    2391.929290   \n",
       "min        20.000000        1.000000       1.000000       0.000000   \n",
       "25%      1000.000000        2.000000    1000.000000     333.000000   \n",
       "50%      3000.000000        6.000000    3000.000000    1000.000000   \n",
       "75%      7300.000000       15.000000    7340.000000    2447.000000   \n",
       "max    226550.000000      133.000000  233413.000000   77804.000000   \n",
       "\n",
       "           FREQUENCE    DATA_VOLUME         ON_NET         ORANGE  \\\n",
       "count  265337.000000  203146.000000  254181.000000  233683.000000   \n",
       "mean       13.951835    3369.763441     275.917586      95.532927   \n",
       "std        14.679943   12281.867504     873.593034     204.733272   \n",
       "min         1.000000       0.000000       0.000000       0.000000   \n",
       "25%         3.000000       0.000000       5.000000       7.000000   \n",
       "50%         9.000000     267.000000      27.000000      29.000000   \n",
       "75%        19.000000    2925.000000     155.000000      99.000000   \n",
       "max        91.000000  934576.000000   45011.000000    6788.000000   \n",
       "\n",
       "                TIGO         ZONE1         ZONE2     REGULARITY  \\\n",
       "count  160614.000000  31690.000000  25513.000000  400000.000000   \n",
       "mean       23.134608      7.874282      7.187003      28.046502   \n",
       "std        63.061871     35.642843     26.964028      22.282773   \n",
       "min         0.000000      0.000000      0.000000       1.000000   \n",
       "25%         2.000000      0.000000      0.000000       6.000000   \n",
       "50%         6.000000      1.000000      2.000000      24.000000   \n",
       "75%        20.000000      3.000000      5.000000      51.000000   \n",
       "max      2758.000000   1657.000000   1011.000000      62.000000   \n",
       "\n",
       "       FREQ_TOP_PACK         CHURN  \n",
       "count  232671.000000  400000.00000  \n",
       "mean        9.254209       0.18711  \n",
       "std        12.305563       0.39000  \n",
       "min         1.000000       0.00000  \n",
       "25%         2.000000       0.00000  \n",
       "50%         5.000000       0.00000  \n",
       "75%        12.000000       0.00000  \n",
       "max       629.000000       1.00000  "
      ]
     },
     "execution_count": 173,
     "metadata": {},
     "output_type": "execute_result"
    }
   ],
   "source": [
    "train.describe()"
   ]
  },
  {
   "cell_type": "code",
   "execution_count": null,
   "metadata": {
    "collapsed": true
   },
   "outputs": [],
   "source": []
  },
  {
   "cell_type": "markdown",
   "metadata": {},
   "source": [
    "#### Finding and Treating Duplicate  Cases"
   ]
  },
  {
   "cell_type": "code",
   "execution_count": 174,
   "metadata": {},
   "outputs": [
    {
     "name": "stdout",
     "output_type": "stream",
     "text": [
      "(400000, 19)\n",
      "(400000,)\n"
     ]
    }
   ],
   "source": [
    "print(train.shape)\n",
    "print (train['user_id'].unique().shape)\n",
    "\n",
    "# There are no duplicate cases"
   ]
  },
  {
   "cell_type": "markdown",
   "metadata": {},
   "source": [
    "### Finding and Treating Missing Values"
   ]
  },
  {
   "cell_type": "code",
   "execution_count": 176,
   "metadata": {},
   "outputs": [
    {
     "data": {
      "text/plain": [
       "user_id                0\n",
       "REGION            157520\n",
       "TENURE                 0\n",
       "MONTANT           140277\n",
       "FREQUENCE_RECH    140277\n",
       "REVENUE           134663\n",
       "ARPU_SEGMENT      134663\n",
       "FREQUENCE         134663\n",
       "DATA_VOLUME       196854\n",
       "ON_NET            145819\n",
       "ORANGE            166317\n",
       "TIGO              239386\n",
       "ZONE1             368310\n",
       "ZONE2             374487\n",
       "MRG                    0\n",
       "REGULARITY             0\n",
       "TOP_PACK          167329\n",
       "FREQ_TOP_PACK     167329\n",
       "CHURN                  0\n",
       "dtype: int64"
      ]
     },
     "execution_count": 176,
     "metadata": {},
     "output_type": "execute_result"
    }
   ],
   "source": [
    "train.isnull().sum()"
   ]
  },
  {
   "cell_type": "code",
   "execution_count": 177,
   "metadata": {
    "collapsed": true
   },
   "outputs": [],
   "source": [
    "train.columns = train.columns.str.lower()\n",
    "test.columns = test.columns.str.lower()"
   ]
  },
  {
   "cell_type": "code",
   "execution_count": 96,
   "metadata": {},
   "outputs": [
    {
     "data": {
      "text/plain": [
       "Index(['user_id', 'region', 'tenure', 'montant', 'frequence_rech', 'revenue',\n",
       "       'arpu_segment', 'frequence', 'data_volume', 'on_net', 'orange', 'tigo',\n",
       "       'zone1', 'zone2', 'mrg', 'regularity', 'top_pack', 'freq_top_pack',\n",
       "       'churn'],\n",
       "      dtype='object')"
      ]
     },
     "execution_count": 96,
     "metadata": {},
     "output_type": "execute_result"
    }
   ],
   "source": [
    "train.columns"
   ]
  },
  {
   "cell_type": "code",
   "execution_count": 97,
   "metadata": {},
   "outputs": [
    {
     "name": "stdout",
     "output_type": "stream",
     "text": [
      "user_id            0.00\n",
      "region            39.38\n",
      "tenure             0.00\n",
      "montant           35.07\n",
      "frequence_rech    35.07\n",
      "revenue           33.67\n",
      "arpu_segment      33.67\n",
      "frequence         33.67\n",
      "data_volume       49.21\n",
      "on_net            36.45\n",
      "orange            41.58\n",
      "tigo              59.85\n",
      "zone1             92.08\n",
      "zone2             93.62\n",
      "mrg                0.00\n",
      "regularity         0.00\n",
      "top_pack          41.83\n",
      "freq_top_pack     41.83\n",
      "churn              0.00\n",
      "dtype: float64\n"
     ]
    }
   ],
   "source": [
    "#To get the percentage of missing values in each column\n",
    "\n",
    "percent_missing = train.isnull().sum() * 100 / len(train)\n",
    "print(percent_missing.round(2))"
   ]
  },
  {
   "cell_type": "markdown",
   "metadata": {},
   "source": [
    "Variables zone1 and zone2 have 90percent missing values, it will be removed.\n",
    "Mrg has same values all through, zero variance in the data so it will be removed.\n",
    "Tenure also has low variance nd will be removed as its not informative.\n"
   ]
  },
  {
   "cell_type": "code",
   "execution_count": 178,
   "metadata": {
    "collapsed": true
   },
   "outputs": [],
   "source": [
    "cols_to_drop = ['zone1', 'zone2', 'mrg']\n",
    "\n",
    "train.drop(labels = cols_to_drop, axis =1, inplace = True)\n",
    "test.drop(labels = cols_to_drop, axis = 1, inplace = True)"
   ]
  },
  {
   "cell_type": "code",
   "execution_count": 99,
   "metadata": {},
   "outputs": [
    {
     "data": {
      "text/html": [
       "<div>\n",
       "<style>\n",
       "    .dataframe thead tr:only-child th {\n",
       "        text-align: right;\n",
       "    }\n",
       "\n",
       "    .dataframe thead th {\n",
       "        text-align: left;\n",
       "    }\n",
       "\n",
       "    .dataframe tbody tr th {\n",
       "        vertical-align: top;\n",
       "    }\n",
       "</style>\n",
       "<table border=\"1\" class=\"dataframe\">\n",
       "  <thead>\n",
       "    <tr style=\"text-align: right;\">\n",
       "      <th></th>\n",
       "      <th>user_id</th>\n",
       "      <th>region</th>\n",
       "      <th>tenure</th>\n",
       "      <th>montant</th>\n",
       "      <th>frequence_rech</th>\n",
       "      <th>revenue</th>\n",
       "      <th>arpu_segment</th>\n",
       "      <th>frequence</th>\n",
       "      <th>data_volume</th>\n",
       "      <th>on_net</th>\n",
       "      <th>orange</th>\n",
       "      <th>tigo</th>\n",
       "      <th>regularity</th>\n",
       "      <th>top_pack</th>\n",
       "      <th>freq_top_pack</th>\n",
       "      <th>churn</th>\n",
       "    </tr>\n",
       "  </thead>\n",
       "  <tbody>\n",
       "    <tr>\n",
       "      <th>0</th>\n",
       "      <td>dcf68cc2fb515ccad7d8b9b3bd80ee2a4b270063</td>\n",
       "      <td>SAINT-LOUIS</td>\n",
       "      <td>K &gt; 24 month</td>\n",
       "      <td>17000.0</td>\n",
       "      <td>32.0</td>\n",
       "      <td>18000.0</td>\n",
       "      <td>6000.0</td>\n",
       "      <td>34.0</td>\n",
       "      <td>NaN</td>\n",
       "      <td>97.0</td>\n",
       "      <td>355.0</td>\n",
       "      <td>6.0</td>\n",
       "      <td>62</td>\n",
       "      <td>All-net 500F=2000F;5d</td>\n",
       "      <td>35.0</td>\n",
       "      <td>0</td>\n",
       "    </tr>\n",
       "    <tr>\n",
       "      <th>1</th>\n",
       "      <td>71c44b5ba328db5c4192a80f7cf8f244d9350ed0</td>\n",
       "      <td>NaN</td>\n",
       "      <td>K &gt; 24 month</td>\n",
       "      <td>4300.0</td>\n",
       "      <td>29.0</td>\n",
       "      <td>4427.0</td>\n",
       "      <td>1476.0</td>\n",
       "      <td>37.0</td>\n",
       "      <td>1764.0</td>\n",
       "      <td>8.0</td>\n",
       "      <td>3.0</td>\n",
       "      <td>0.0</td>\n",
       "      <td>40</td>\n",
       "      <td>Data: 100 F=40MB,24H</td>\n",
       "      <td>22.0</td>\n",
       "      <td>0</td>\n",
       "    </tr>\n",
       "  </tbody>\n",
       "</table>\n",
       "</div>"
      ],
      "text/plain": [
       "                                    user_id       region        tenure  \\\n",
       "0  dcf68cc2fb515ccad7d8b9b3bd80ee2a4b270063  SAINT-LOUIS  K > 24 month   \n",
       "1  71c44b5ba328db5c4192a80f7cf8f244d9350ed0          NaN  K > 24 month   \n",
       "\n",
       "   montant  frequence_rech  revenue  arpu_segment  frequence  data_volume  \\\n",
       "0  17000.0            32.0  18000.0        6000.0       34.0          NaN   \n",
       "1   4300.0            29.0   4427.0        1476.0       37.0       1764.0   \n",
       "\n",
       "   on_net  orange  tigo  regularity               top_pack  freq_top_pack  \\\n",
       "0    97.0   355.0   6.0          62  All-net 500F=2000F;5d           35.0   \n",
       "1     8.0     3.0   0.0          40   Data: 100 F=40MB,24H           22.0   \n",
       "\n",
       "   churn  \n",
       "0      0  \n",
       "1      0  "
      ]
     },
     "execution_count": 99,
     "metadata": {},
     "output_type": "execute_result"
    }
   ],
   "source": [
    "train.head(2)"
   ]
  },
  {
   "cell_type": "code",
   "execution_count": 179,
   "metadata": {
    "collapsed": true
   },
   "outputs": [],
   "source": [
    "cat_col = ['region', 'tenure', 'top_pack', 'churn']"
   ]
  },
  {
   "cell_type": "code",
   "execution_count": 180,
   "metadata": {},
   "outputs": [
    {
     "name": "stdout",
     "output_type": "stream",
     "text": [
      "region 14\n",
      "tenure 8\n",
      "top_pack 111\n",
      "churn 2\n"
     ]
    }
   ],
   "source": [
    "for col in cat_col:\n",
    "    nuniq = train[col].nunique()\n",
    "    print(col, nuniq)"
   ]
  },
  {
   "cell_type": "code",
   "execution_count": 181,
   "metadata": {},
   "outputs": [
    {
     "name": "stdout",
     "output_type": "stream",
     "text": [
      "DAKAR          23.87925\n",
      "THIES           8.34350\n",
      "SAINT-LOUIS     5.53125\n",
      "LOUGA           4.62825\n",
      "KAOLACK         4.51050\n",
      "DIOURBEL        3.14400\n",
      "TAMBACOUNDA     2.56825\n",
      "KAFFRINE        2.04525\n",
      "KOLDA           1.80100\n",
      "FATICK          1.65950\n",
      "MATAM           1.31375\n",
      "ZIGUINCHOR      1.00300\n",
      "SEDHIOU         0.14725\n",
      "KEDOUGOU        0.04525\n",
      "Name: region, dtype: float64\n",
      "K > 24 month     94.85975\n",
      "I 18-21 month     2.07800\n",
      "H 15-18 month     1.21450\n",
      "G 12-15 month     0.69700\n",
      "J 21-24 month     0.58125\n",
      "F 9-12 month      0.44275\n",
      "E 6-9 month       0.08975\n",
      "D 3-6 month       0.03700\n",
      "Name: tenure, dtype: float64\n",
      "All-net 500F=2000F;5d                        14.66875\n",
      "On net 200F=Unlimited _call24H                7.09675\n",
      "Data:490F=1GB,7d                              5.41525\n",
      "Data: 100 F=40MB,24H                          3.89750\n",
      "Mixt 250F=Unlimited_call24H                   3.17800\n",
      "MIXT:500F= 2500F on net _2500F off net;2d     3.00500\n",
      "Data:1000F=2GB,30d                            2.80125\n",
      "All-net 500F =2000F_AllNet_Unlimited          2.15625\n",
      "Jokko_Daily                                   2.10900\n",
      "Data: 200 F=100MB,24H                         2.02150\n",
      "IVR Echat_Daily_50F                           1.31600\n",
      "On-net 500=4000,10d                           1.23875\n",
      "On-net 500F_FNF;3d                            1.03375\n",
      "Data:200F=Unlimited,24H                       1.01225\n",
      "MIXT: 200mnoff net _unl on net _5Go;30d       0.88825\n",
      "On-net 1000F=10MilF;10d                       0.85225\n",
      "VAS(IVR_Radio_Daily)                          0.69125\n",
      "Data:1000F=5GB,7d                             0.68500\n",
      "Twter_U2opia_Daily                            0.56075\n",
      "All-net 600F= 3000F ;5d                       0.47925\n",
      "On-net 200F=60mn;1d                           0.31225\n",
      "All-net 1000=5000;5d                          0.27825\n",
      "Twter_U2opia_Weekly                           0.27575\n",
      "Data:500F=2GB,24H                             0.26925\n",
      "Data:3000F=10GB,30d                           0.16450\n",
      "MIXT: 390F=04HOn-net_400SMS_400 Mo;4h\\t       0.13550\n",
      "All-net 500F=1250F_AllNet_1250_Onnet;48h      0.13175\n",
      "Data:50F=30MB_24H                             0.12450\n",
      "Data:300F=100MB,2d                            0.12400\n",
      "All-net 1000F=(3000F On+3000F Off);5d         0.09750\n",
      "                                               ...   \n",
      "Internat: 1000F_Zone_3;24h\\t\\t                0.00225\n",
      "Incoming_Bonus_woma                           0.00175\n",
      "EVC_100Mo                                     0.00150\n",
      "VAS(IVR_Radio_Weekly)                         0.00125\n",
      "Internat: 2000F_Zone_2;24H\\t\\t                0.00125\n",
      "1000=Unlimited7Day                            0.00100\n",
      "FNF_Youth_ESN                                 0.00100\n",
      "CVM_200f=400MB                                0.00100\n",
      "IVR Echat_Monthly_500F                        0.00075\n",
      "Data_EVC_2Go24H                               0.00075\n",
      "CVM_500f=2GB                                  0.00075\n",
      "WIFI_ Family _10MBPS                          0.00050\n",
      "CVM_100f=200 MB                               0.00050\n",
      "NEW_CLIR_PERMANENT_LIBERTE_MOBILE             0.00050\n",
      "CVM_On-net 1300f=12500                        0.00050\n",
      "EVC_Jokko_Weekly                              0.00050\n",
      "305155009                                     0.00050\n",
      "CVM_On-net 400f=2200F                         0.00025\n",
      "APANews_weekly                                0.00025\n",
      "pilot_offer6                                  0.00025\n",
      "pack_chinguitel_24h                           0.00025\n",
      "200=unlimited pilot auto                      0.00025\n",
      "pilot_offer5                                  0.00025\n",
      "Data:New-GPRS_PKG_1500F                       0.00025\n",
      "APANews_monthly                               0.00025\n",
      "301765007                                     0.00025\n",
      "NEW_CLIR_TEMPALLOWED_LIBERTE_MOBILE           0.00025\n",
      "EVC_MEGA10000F                                0.00025\n",
      "CVM_100F_unlimited                            0.00025\n",
      "GPRS_3000Equal10GPORTAL                       0.00025\n",
      "Name: top_pack, Length: 111, dtype: float64\n",
      "0    81.289\n",
      "1    18.711\n",
      "Name: churn, dtype: float64\n"
     ]
    }
   ],
   "source": [
    "for col in cat_col:\n",
    "    print(train[col].value_counts()*100 / len(train))"
   ]
  },
  {
   "cell_type": "code",
   "execution_count": 182,
   "metadata": {
    "collapsed": true
   },
   "outputs": [],
   "source": [
    "# missing values in Tenure will be filled with the mode value. \n",
    "mode_train = train['tenure'].mode()\n",
    "train['tenure'] = train['tenure'].fillna(mode_train[0])\n",
    "test['tenure'].fillna(test['tenure'].mode()[0], inplace = True)\n"
   ]
  },
  {
   "cell_type": "code",
   "execution_count": 104,
   "metadata": {
    "collapsed": true
   },
   "outputs": [],
   "source": [
    "train['tenure'] = train['tenure'].str.replace('month', '')"
   ]
  },
  {
   "cell_type": "code",
   "execution_count": 184,
   "metadata": {
    "collapsed": true
   },
   "outputs": [],
   "source": [
    "# missing values in region and top_pack will be coded as a new category \"Unknown_Region\" and 'Unknown_topack'\n",
    "train['region'].fillna('Unknown_region', inplace = True)\n",
    "test['region'].fillna('Unknown_region', inplace = True)\n",
    "\n",
    "train['top_pack'].fillna('Unknown_topack', inplace = True)\n",
    "test['top_pack'].fillna('Unknown_topack', inplace = True)"
   ]
  },
  {
   "cell_type": "code",
   "execution_count": 185,
   "metadata": {
    "collapsed": true
   },
   "outputs": [],
   "source": [
    "# clean and rename the top pack column\n",
    "datasets = [train, test]\n",
    "for dataset in datasets:\n",
    "    dataset.loc[dataset['top_pack'].str.contains('All-net', case = False), 'top_pack'] = 'Call'\n",
    "    dataset.loc[dataset['top_pack'].str.contains('On net', case = False), 'top_pack'] = 'Call'\n",
    "    dataset.loc[dataset['top_pack'].str.contains('On-net', case = False), 'top_pack'] = 'Call'\n",
    "    dataset.loc[dataset['top_pack'].str.contains('Data', case = False), 'top_pack'] = 'Data'\n",
    "    dataset.loc[dataset['top_pack'].str.contains('mixt', case = False), 'top_pack'] = 'Call_Data'\n",
    "    "
   ]
  },
  {
   "cell_type": "code",
   "execution_count": 186,
   "metadata": {
    "collapsed": true
   },
   "outputs": [],
   "source": [
    "train.loc[~train['top_pack'].isin(['Call', 'Data', 'Call_Data', 'Unknown_topack']), 'top_pack'] = 'Others'"
   ]
  },
  {
   "cell_type": "code",
   "execution_count": 187,
   "metadata": {
    "scrolled": true
   },
   "outputs": [
    {
     "data": {
      "text/html": [
       "<div>\n",
       "<style>\n",
       "    .dataframe thead tr:only-child th {\n",
       "        text-align: right;\n",
       "    }\n",
       "\n",
       "    .dataframe thead th {\n",
       "        text-align: left;\n",
       "    }\n",
       "\n",
       "    .dataframe tbody tr th {\n",
       "        vertical-align: top;\n",
       "    }\n",
       "</style>\n",
       "<table border=\"1\" class=\"dataframe\">\n",
       "  <thead>\n",
       "    <tr style=\"text-align: right;\">\n",
       "      <th></th>\n",
       "      <th>user_id</th>\n",
       "      <th>region</th>\n",
       "      <th>tenure</th>\n",
       "      <th>montant</th>\n",
       "      <th>frequence_rech</th>\n",
       "      <th>revenue</th>\n",
       "      <th>arpu_segment</th>\n",
       "      <th>frequence</th>\n",
       "      <th>data_volume</th>\n",
       "      <th>on_net</th>\n",
       "      <th>orange</th>\n",
       "      <th>tigo</th>\n",
       "      <th>regularity</th>\n",
       "      <th>top_pack</th>\n",
       "      <th>freq_top_pack</th>\n",
       "      <th>churn</th>\n",
       "    </tr>\n",
       "  </thead>\n",
       "  <tbody>\n",
       "    <tr>\n",
       "      <th>0</th>\n",
       "      <td>dcf68cc2fb515ccad7d8b9b3bd80ee2a4b270063</td>\n",
       "      <td>SAINT-LOUIS</td>\n",
       "      <td>K &gt; 24 month</td>\n",
       "      <td>17000.0</td>\n",
       "      <td>32.0</td>\n",
       "      <td>18000.0</td>\n",
       "      <td>6000.0</td>\n",
       "      <td>34.0</td>\n",
       "      <td>NaN</td>\n",
       "      <td>97.0</td>\n",
       "      <td>355.0</td>\n",
       "      <td>6.0</td>\n",
       "      <td>62</td>\n",
       "      <td>Call</td>\n",
       "      <td>35.0</td>\n",
       "      <td>0</td>\n",
       "    </tr>\n",
       "    <tr>\n",
       "      <th>1</th>\n",
       "      <td>71c44b5ba328db5c4192a80f7cf8f244d9350ed0</td>\n",
       "      <td>Unknown_region</td>\n",
       "      <td>K &gt; 24 month</td>\n",
       "      <td>4300.0</td>\n",
       "      <td>29.0</td>\n",
       "      <td>4427.0</td>\n",
       "      <td>1476.0</td>\n",
       "      <td>37.0</td>\n",
       "      <td>1764.0</td>\n",
       "      <td>8.0</td>\n",
       "      <td>3.0</td>\n",
       "      <td>0.0</td>\n",
       "      <td>40</td>\n",
       "      <td>Data</td>\n",
       "      <td>22.0</td>\n",
       "      <td>0</td>\n",
       "    </tr>\n",
       "    <tr>\n",
       "      <th>2</th>\n",
       "      <td>ce46411b1526c94f20a383b8cb188f8d27f82a0a</td>\n",
       "      <td>TAMBACOUNDA</td>\n",
       "      <td>K &gt; 24 month</td>\n",
       "      <td>1500.0</td>\n",
       "      <td>3.0</td>\n",
       "      <td>1500.0</td>\n",
       "      <td>500.0</td>\n",
       "      <td>3.0</td>\n",
       "      <td>NaN</td>\n",
       "      <td>30.0</td>\n",
       "      <td>30.0</td>\n",
       "      <td>NaN</td>\n",
       "      <td>32</td>\n",
       "      <td>Call</td>\n",
       "      <td>3.0</td>\n",
       "      <td>0</td>\n",
       "    </tr>\n",
       "    <tr>\n",
       "      <th>3</th>\n",
       "      <td>f467cdb6669818373c26c2bad44e01ba66f97d21</td>\n",
       "      <td>FATICK</td>\n",
       "      <td>K &gt; 24 month</td>\n",
       "      <td>1500.0</td>\n",
       "      <td>3.0</td>\n",
       "      <td>2497.0</td>\n",
       "      <td>832.0</td>\n",
       "      <td>4.0</td>\n",
       "      <td>0.0</td>\n",
       "      <td>159.0</td>\n",
       "      <td>45.0</td>\n",
       "      <td>19.0</td>\n",
       "      <td>18</td>\n",
       "      <td>Call</td>\n",
       "      <td>3.0</td>\n",
       "      <td>0</td>\n",
       "    </tr>\n",
       "    <tr>\n",
       "      <th>4</th>\n",
       "      <td>ec45e1a1888a32b5dcce0954cfec20c6e037db31</td>\n",
       "      <td>FATICK</td>\n",
       "      <td>K &gt; 24 month</td>\n",
       "      <td>NaN</td>\n",
       "      <td>NaN</td>\n",
       "      <td>498.0</td>\n",
       "      <td>166.0</td>\n",
       "      <td>3.0</td>\n",
       "      <td>1.0</td>\n",
       "      <td>1.0</td>\n",
       "      <td>3.0</td>\n",
       "      <td>NaN</td>\n",
       "      <td>50</td>\n",
       "      <td>Unknown_topack</td>\n",
       "      <td>NaN</td>\n",
       "      <td>0</td>\n",
       "    </tr>\n",
       "    <tr>\n",
       "      <th>5</th>\n",
       "      <td>2bd9ab2983615149380a63f44a66780f4fa19a4a</td>\n",
       "      <td>THIES</td>\n",
       "      <td>K &gt; 24 month</td>\n",
       "      <td>5500.0</td>\n",
       "      <td>9.0</td>\n",
       "      <td>5359.0</td>\n",
       "      <td>1786.0</td>\n",
       "      <td>19.0</td>\n",
       "      <td>6084.0</td>\n",
       "      <td>7.0</td>\n",
       "      <td>12.0</td>\n",
       "      <td>5.0</td>\n",
       "      <td>30</td>\n",
       "      <td>Data</td>\n",
       "      <td>7.0</td>\n",
       "      <td>0</td>\n",
       "    </tr>\n",
       "    <tr>\n",
       "      <th>6</th>\n",
       "      <td>b2d9c4bdceaafe305e8424c97f64e4ba880d0a97</td>\n",
       "      <td>Unknown_region</td>\n",
       "      <td>K &gt; 24 month</td>\n",
       "      <td>NaN</td>\n",
       "      <td>NaN</td>\n",
       "      <td>NaN</td>\n",
       "      <td>NaN</td>\n",
       "      <td>NaN</td>\n",
       "      <td>NaN</td>\n",
       "      <td>NaN</td>\n",
       "      <td>NaN</td>\n",
       "      <td>NaN</td>\n",
       "      <td>7</td>\n",
       "      <td>Unknown_topack</td>\n",
       "      <td>NaN</td>\n",
       "      <td>0</td>\n",
       "    </tr>\n",
       "    <tr>\n",
       "      <th>7</th>\n",
       "      <td>8ebce4e82fa049f96ff1aa460217171af4e4ede1</td>\n",
       "      <td>SAINT-LOUIS</td>\n",
       "      <td>H 15-18 month</td>\n",
       "      <td>NaN</td>\n",
       "      <td>NaN</td>\n",
       "      <td>NaN</td>\n",
       "      <td>NaN</td>\n",
       "      <td>NaN</td>\n",
       "      <td>0.0</td>\n",
       "      <td>NaN</td>\n",
       "      <td>NaN</td>\n",
       "      <td>NaN</td>\n",
       "      <td>5</td>\n",
       "      <td>Unknown_topack</td>\n",
       "      <td>NaN</td>\n",
       "      <td>1</td>\n",
       "    </tr>\n",
       "    <tr>\n",
       "      <th>8</th>\n",
       "      <td>ebfbd28870a7663d49ec79799f9fd59e8c5655ed</td>\n",
       "      <td>TAMBACOUNDA</td>\n",
       "      <td>K &gt; 24 month</td>\n",
       "      <td>22500.0</td>\n",
       "      <td>8.0</td>\n",
       "      <td>22230.0</td>\n",
       "      <td>7410.0</td>\n",
       "      <td>16.0</td>\n",
       "      <td>14956.0</td>\n",
       "      <td>6336.0</td>\n",
       "      <td>1017.0</td>\n",
       "      <td>185.0</td>\n",
       "      <td>62</td>\n",
       "      <td>Data</td>\n",
       "      <td>3.0</td>\n",
       "      <td>0</td>\n",
       "    </tr>\n",
       "    <tr>\n",
       "      <th>9</th>\n",
       "      <td>cf5d5edda4805f7f526884cee8bde797213eeefa</td>\n",
       "      <td>Unknown_region</td>\n",
       "      <td>G 12-15 month</td>\n",
       "      <td>NaN</td>\n",
       "      <td>NaN</td>\n",
       "      <td>NaN</td>\n",
       "      <td>NaN</td>\n",
       "      <td>NaN</td>\n",
       "      <td>NaN</td>\n",
       "      <td>NaN</td>\n",
       "      <td>NaN</td>\n",
       "      <td>NaN</td>\n",
       "      <td>1</td>\n",
       "      <td>Unknown_topack</td>\n",
       "      <td>NaN</td>\n",
       "      <td>0</td>\n",
       "    </tr>\n",
       "    <tr>\n",
       "      <th>10</th>\n",
       "      <td>f285ca38e7467998768324791467a2dcb52073ca</td>\n",
       "      <td>THIES</td>\n",
       "      <td>K &gt; 24 month</td>\n",
       "      <td>NaN</td>\n",
       "      <td>NaN</td>\n",
       "      <td>NaN</td>\n",
       "      <td>NaN</td>\n",
       "      <td>NaN</td>\n",
       "      <td>NaN</td>\n",
       "      <td>NaN</td>\n",
       "      <td>NaN</td>\n",
       "      <td>NaN</td>\n",
       "      <td>3</td>\n",
       "      <td>Unknown_topack</td>\n",
       "      <td>NaN</td>\n",
       "      <td>0</td>\n",
       "    </tr>\n",
       "    <tr>\n",
       "      <th>11</th>\n",
       "      <td>170ef8b48fdc05030c17192998a4b8d81561c9a1</td>\n",
       "      <td>THIES</td>\n",
       "      <td>K &gt; 24 month</td>\n",
       "      <td>300.0</td>\n",
       "      <td>3.0</td>\n",
       "      <td>300.0</td>\n",
       "      <td>100.0</td>\n",
       "      <td>3.0</td>\n",
       "      <td>169.0</td>\n",
       "      <td>8.0</td>\n",
       "      <td>1.0</td>\n",
       "      <td>0.0</td>\n",
       "      <td>47</td>\n",
       "      <td>Others</td>\n",
       "      <td>2.0</td>\n",
       "      <td>0</td>\n",
       "    </tr>\n",
       "    <tr>\n",
       "      <th>12</th>\n",
       "      <td>b7911a9e6225438f5313b87a5bd1a633f0ca3ce5</td>\n",
       "      <td>LOUGA</td>\n",
       "      <td>K &gt; 24 month</td>\n",
       "      <td>3300.0</td>\n",
       "      <td>9.0</td>\n",
       "      <td>2996.0</td>\n",
       "      <td>999.0</td>\n",
       "      <td>10.0</td>\n",
       "      <td>0.0</td>\n",
       "      <td>547.0</td>\n",
       "      <td>9.0</td>\n",
       "      <td>0.0</td>\n",
       "      <td>54</td>\n",
       "      <td>Call</td>\n",
       "      <td>4.0</td>\n",
       "      <td>0</td>\n",
       "    </tr>\n",
       "    <tr>\n",
       "      <th>13</th>\n",
       "      <td>5a85658ab06370ee4fb181d777f6a63b782e7f23</td>\n",
       "      <td>DAKAR</td>\n",
       "      <td>K &gt; 24 month</td>\n",
       "      <td>4550.0</td>\n",
       "      <td>18.0</td>\n",
       "      <td>4450.0</td>\n",
       "      <td>1483.0</td>\n",
       "      <td>23.0</td>\n",
       "      <td>1062.0</td>\n",
       "      <td>34.0</td>\n",
       "      <td>20.0</td>\n",
       "      <td>4.0</td>\n",
       "      <td>58</td>\n",
       "      <td>Data</td>\n",
       "      <td>11.0</td>\n",
       "      <td>0</td>\n",
       "    </tr>\n",
       "    <tr>\n",
       "      <th>14</th>\n",
       "      <td>3cf5dd2b731cccf968d7c52a8010900cf0bc0c6c</td>\n",
       "      <td>DAKAR</td>\n",
       "      <td>K &gt; 24 month</td>\n",
       "      <td>3800.0</td>\n",
       "      <td>7.0</td>\n",
       "      <td>3500.0</td>\n",
       "      <td>1167.0</td>\n",
       "      <td>7.0</td>\n",
       "      <td>NaN</td>\n",
       "      <td>15.0</td>\n",
       "      <td>71.0</td>\n",
       "      <td>5.0</td>\n",
       "      <td>24</td>\n",
       "      <td>Others</td>\n",
       "      <td>1.0</td>\n",
       "      <td>0</td>\n",
       "    </tr>\n",
       "    <tr>\n",
       "      <th>15</th>\n",
       "      <td>d28fee1644d605f854109323d7044af85acd2d7e</td>\n",
       "      <td>LOUGA</td>\n",
       "      <td>K &gt; 24 month</td>\n",
       "      <td>3550.0</td>\n",
       "      <td>7.0</td>\n",
       "      <td>3550.0</td>\n",
       "      <td>1183.0</td>\n",
       "      <td>9.0</td>\n",
       "      <td>8093.0</td>\n",
       "      <td>347.0</td>\n",
       "      <td>130.0</td>\n",
       "      <td>5.0</td>\n",
       "      <td>51</td>\n",
       "      <td>Call_Data</td>\n",
       "      <td>4.0</td>\n",
       "      <td>0</td>\n",
       "    </tr>\n",
       "    <tr>\n",
       "      <th>16</th>\n",
       "      <td>493faf70583308ed87956d40b5c052b2d9b765ac</td>\n",
       "      <td>Unknown_region</td>\n",
       "      <td>K &gt; 24 month</td>\n",
       "      <td>NaN</td>\n",
       "      <td>NaN</td>\n",
       "      <td>NaN</td>\n",
       "      <td>NaN</td>\n",
       "      <td>NaN</td>\n",
       "      <td>NaN</td>\n",
       "      <td>NaN</td>\n",
       "      <td>NaN</td>\n",
       "      <td>NaN</td>\n",
       "      <td>1</td>\n",
       "      <td>Unknown_topack</td>\n",
       "      <td>NaN</td>\n",
       "      <td>1</td>\n",
       "    </tr>\n",
       "    <tr>\n",
       "      <th>17</th>\n",
       "      <td>f9d7ad477230d9421d48531508cc543727ab0cf9</td>\n",
       "      <td>DAKAR</td>\n",
       "      <td>K &gt; 24 month</td>\n",
       "      <td>15450.0</td>\n",
       "      <td>46.0</td>\n",
       "      <td>15538.0</td>\n",
       "      <td>5179.0</td>\n",
       "      <td>51.0</td>\n",
       "      <td>22508.0</td>\n",
       "      <td>67.0</td>\n",
       "      <td>72.0</td>\n",
       "      <td>9.0</td>\n",
       "      <td>61</td>\n",
       "      <td>Data</td>\n",
       "      <td>29.0</td>\n",
       "      <td>0</td>\n",
       "    </tr>\n",
       "    <tr>\n",
       "      <th>18</th>\n",
       "      <td>116ffee48841c79b805641d7c801106339cb3451</td>\n",
       "      <td>KAFFRINE</td>\n",
       "      <td>K &gt; 24 month</td>\n",
       "      <td>14600.0</td>\n",
       "      <td>28.0</td>\n",
       "      <td>15100.0</td>\n",
       "      <td>5033.0</td>\n",
       "      <td>29.0</td>\n",
       "      <td>NaN</td>\n",
       "      <td>748.0</td>\n",
       "      <td>117.0</td>\n",
       "      <td>3.0</td>\n",
       "      <td>62</td>\n",
       "      <td>Call</td>\n",
       "      <td>17.0</td>\n",
       "      <td>0</td>\n",
       "    </tr>\n",
       "    <tr>\n",
       "      <th>19</th>\n",
       "      <td>1c32adee7049772cfcb7f902b99d4ebcf3950985</td>\n",
       "      <td>Unknown_region</td>\n",
       "      <td>J 21-24 month</td>\n",
       "      <td>NaN</td>\n",
       "      <td>NaN</td>\n",
       "      <td>NaN</td>\n",
       "      <td>NaN</td>\n",
       "      <td>NaN</td>\n",
       "      <td>NaN</td>\n",
       "      <td>NaN</td>\n",
       "      <td>NaN</td>\n",
       "      <td>NaN</td>\n",
       "      <td>1</td>\n",
       "      <td>Unknown_topack</td>\n",
       "      <td>NaN</td>\n",
       "      <td>1</td>\n",
       "    </tr>\n",
       "  </tbody>\n",
       "</table>\n",
       "</div>"
      ],
      "text/plain": [
       "                                     user_id          region         tenure  \\\n",
       "0   dcf68cc2fb515ccad7d8b9b3bd80ee2a4b270063     SAINT-LOUIS   K > 24 month   \n",
       "1   71c44b5ba328db5c4192a80f7cf8f244d9350ed0  Unknown_region   K > 24 month   \n",
       "2   ce46411b1526c94f20a383b8cb188f8d27f82a0a     TAMBACOUNDA   K > 24 month   \n",
       "3   f467cdb6669818373c26c2bad44e01ba66f97d21          FATICK   K > 24 month   \n",
       "4   ec45e1a1888a32b5dcce0954cfec20c6e037db31          FATICK   K > 24 month   \n",
       "5   2bd9ab2983615149380a63f44a66780f4fa19a4a           THIES   K > 24 month   \n",
       "6   b2d9c4bdceaafe305e8424c97f64e4ba880d0a97  Unknown_region   K > 24 month   \n",
       "7   8ebce4e82fa049f96ff1aa460217171af4e4ede1     SAINT-LOUIS  H 15-18 month   \n",
       "8   ebfbd28870a7663d49ec79799f9fd59e8c5655ed     TAMBACOUNDA   K > 24 month   \n",
       "9   cf5d5edda4805f7f526884cee8bde797213eeefa  Unknown_region  G 12-15 month   \n",
       "10  f285ca38e7467998768324791467a2dcb52073ca           THIES   K > 24 month   \n",
       "11  170ef8b48fdc05030c17192998a4b8d81561c9a1           THIES   K > 24 month   \n",
       "12  b7911a9e6225438f5313b87a5bd1a633f0ca3ce5           LOUGA   K > 24 month   \n",
       "13  5a85658ab06370ee4fb181d777f6a63b782e7f23           DAKAR   K > 24 month   \n",
       "14  3cf5dd2b731cccf968d7c52a8010900cf0bc0c6c           DAKAR   K > 24 month   \n",
       "15  d28fee1644d605f854109323d7044af85acd2d7e           LOUGA   K > 24 month   \n",
       "16  493faf70583308ed87956d40b5c052b2d9b765ac  Unknown_region   K > 24 month   \n",
       "17  f9d7ad477230d9421d48531508cc543727ab0cf9           DAKAR   K > 24 month   \n",
       "18  116ffee48841c79b805641d7c801106339cb3451        KAFFRINE   K > 24 month   \n",
       "19  1c32adee7049772cfcb7f902b99d4ebcf3950985  Unknown_region  J 21-24 month   \n",
       "\n",
       "    montant  frequence_rech  revenue  arpu_segment  frequence  data_volume  \\\n",
       "0   17000.0            32.0  18000.0        6000.0       34.0          NaN   \n",
       "1    4300.0            29.0   4427.0        1476.0       37.0       1764.0   \n",
       "2    1500.0             3.0   1500.0         500.0        3.0          NaN   \n",
       "3    1500.0             3.0   2497.0         832.0        4.0          0.0   \n",
       "4       NaN             NaN    498.0         166.0        3.0          1.0   \n",
       "5    5500.0             9.0   5359.0        1786.0       19.0       6084.0   \n",
       "6       NaN             NaN      NaN           NaN        NaN          NaN   \n",
       "7       NaN             NaN      NaN           NaN        NaN          0.0   \n",
       "8   22500.0             8.0  22230.0        7410.0       16.0      14956.0   \n",
       "9       NaN             NaN      NaN           NaN        NaN          NaN   \n",
       "10      NaN             NaN      NaN           NaN        NaN          NaN   \n",
       "11    300.0             3.0    300.0         100.0        3.0        169.0   \n",
       "12   3300.0             9.0   2996.0         999.0       10.0          0.0   \n",
       "13   4550.0            18.0   4450.0        1483.0       23.0       1062.0   \n",
       "14   3800.0             7.0   3500.0        1167.0        7.0          NaN   \n",
       "15   3550.0             7.0   3550.0        1183.0        9.0       8093.0   \n",
       "16      NaN             NaN      NaN           NaN        NaN          NaN   \n",
       "17  15450.0            46.0  15538.0        5179.0       51.0      22508.0   \n",
       "18  14600.0            28.0  15100.0        5033.0       29.0          NaN   \n",
       "19      NaN             NaN      NaN           NaN        NaN          NaN   \n",
       "\n",
       "    on_net  orange   tigo  regularity        top_pack  freq_top_pack  churn  \n",
       "0     97.0   355.0    6.0          62            Call           35.0      0  \n",
       "1      8.0     3.0    0.0          40            Data           22.0      0  \n",
       "2     30.0    30.0    NaN          32            Call            3.0      0  \n",
       "3    159.0    45.0   19.0          18            Call            3.0      0  \n",
       "4      1.0     3.0    NaN          50  Unknown_topack            NaN      0  \n",
       "5      7.0    12.0    5.0          30            Data            7.0      0  \n",
       "6      NaN     NaN    NaN           7  Unknown_topack            NaN      0  \n",
       "7      NaN     NaN    NaN           5  Unknown_topack            NaN      1  \n",
       "8   6336.0  1017.0  185.0          62            Data            3.0      0  \n",
       "9      NaN     NaN    NaN           1  Unknown_topack            NaN      0  \n",
       "10     NaN     NaN    NaN           3  Unknown_topack            NaN      0  \n",
       "11     8.0     1.0    0.0          47          Others            2.0      0  \n",
       "12   547.0     9.0    0.0          54            Call            4.0      0  \n",
       "13    34.0    20.0    4.0          58            Data           11.0      0  \n",
       "14    15.0    71.0    5.0          24          Others            1.0      0  \n",
       "15   347.0   130.0    5.0          51       Call_Data            4.0      0  \n",
       "16     NaN     NaN    NaN           1  Unknown_topack            NaN      1  \n",
       "17    67.0    72.0    9.0          61            Data           29.0      0  \n",
       "18   748.0   117.0    3.0          62            Call           17.0      0  \n",
       "19     NaN     NaN    NaN           1  Unknown_topack            NaN      1  "
      ]
     },
     "execution_count": 187,
     "metadata": {},
     "output_type": "execute_result"
    }
   ],
   "source": [
    "train.head(20)"
   ]
  },
  {
   "cell_type": "code",
   "execution_count": 188,
   "metadata": {
    "collapsed": true
   },
   "outputs": [],
   "source": [
    "# To fill in missing values for the rest of the numeric variables, \n",
    "# For the tree-based model, we will fill with -1\n",
    "# For the other models, we will fill with the median, taking into consideration that these columns are skewed\n",
    "\n",
    "other_num_col = ['montant', 'frequence_rech', 'revenue','arpu_segment', 'frequence', 'data_volume', 'on_net', 'orange', 'tigo', 'freq_top_pack']\n",
    "\n",
    "# for col in other_num_col:\n",
    "#     test[col].fillna(-1, inplace = True)\n",
    "#     train[col].fillna(-1, inplace = True)\n",
    "    \n",
    "for col in other_num_col:\n",
    "    test[col].fillna(test[col].median(), inplace = True)\n",
    "    train[col].fillna(test[col].median(), inplace = True)"
   ]
  },
  {
   "cell_type": "code",
   "execution_count": 189,
   "metadata": {},
   "outputs": [
    {
     "data": {
      "text/html": [
       "<div>\n",
       "<style>\n",
       "    .dataframe thead tr:only-child th {\n",
       "        text-align: right;\n",
       "    }\n",
       "\n",
       "    .dataframe thead th {\n",
       "        text-align: left;\n",
       "    }\n",
       "\n",
       "    .dataframe tbody tr th {\n",
       "        vertical-align: top;\n",
       "    }\n",
       "</style>\n",
       "<table border=\"1\" class=\"dataframe\">\n",
       "  <thead>\n",
       "    <tr style=\"text-align: right;\">\n",
       "      <th></th>\n",
       "      <th>user_id</th>\n",
       "      <th>region</th>\n",
       "      <th>tenure</th>\n",
       "      <th>montant</th>\n",
       "      <th>frequence_rech</th>\n",
       "      <th>revenue</th>\n",
       "      <th>arpu_segment</th>\n",
       "      <th>frequence</th>\n",
       "      <th>data_volume</th>\n",
       "      <th>on_net</th>\n",
       "      <th>orange</th>\n",
       "      <th>tigo</th>\n",
       "      <th>regularity</th>\n",
       "      <th>top_pack</th>\n",
       "      <th>freq_top_pack</th>\n",
       "      <th>churn</th>\n",
       "    </tr>\n",
       "  </thead>\n",
       "  <tbody>\n",
       "    <tr>\n",
       "      <th>0</th>\n",
       "      <td>dcf68cc2fb515ccad7d8b9b3bd80ee2a4b270063</td>\n",
       "      <td>SAINT-LOUIS</td>\n",
       "      <td>K &gt; 24 month</td>\n",
       "      <td>17000.0</td>\n",
       "      <td>32.0</td>\n",
       "      <td>18000.0</td>\n",
       "      <td>6000.0</td>\n",
       "      <td>34.0</td>\n",
       "      <td>268.0</td>\n",
       "      <td>97.0</td>\n",
       "      <td>355.0</td>\n",
       "      <td>6.0</td>\n",
       "      <td>62</td>\n",
       "      <td>Call</td>\n",
       "      <td>35.0</td>\n",
       "      <td>0</td>\n",
       "    </tr>\n",
       "    <tr>\n",
       "      <th>1</th>\n",
       "      <td>71c44b5ba328db5c4192a80f7cf8f244d9350ed0</td>\n",
       "      <td>Unknown_region</td>\n",
       "      <td>K &gt; 24 month</td>\n",
       "      <td>4300.0</td>\n",
       "      <td>29.0</td>\n",
       "      <td>4427.0</td>\n",
       "      <td>1476.0</td>\n",
       "      <td>37.0</td>\n",
       "      <td>1764.0</td>\n",
       "      <td>8.0</td>\n",
       "      <td>3.0</td>\n",
       "      <td>0.0</td>\n",
       "      <td>40</td>\n",
       "      <td>Data</td>\n",
       "      <td>22.0</td>\n",
       "      <td>0</td>\n",
       "    </tr>\n",
       "    <tr>\n",
       "      <th>2</th>\n",
       "      <td>ce46411b1526c94f20a383b8cb188f8d27f82a0a</td>\n",
       "      <td>TAMBACOUNDA</td>\n",
       "      <td>K &gt; 24 month</td>\n",
       "      <td>1500.0</td>\n",
       "      <td>3.0</td>\n",
       "      <td>1500.0</td>\n",
       "      <td>500.0</td>\n",
       "      <td>3.0</td>\n",
       "      <td>268.0</td>\n",
       "      <td>30.0</td>\n",
       "      <td>30.0</td>\n",
       "      <td>6.0</td>\n",
       "      <td>32</td>\n",
       "      <td>Call</td>\n",
       "      <td>3.0</td>\n",
       "      <td>0</td>\n",
       "    </tr>\n",
       "    <tr>\n",
       "      <th>3</th>\n",
       "      <td>f467cdb6669818373c26c2bad44e01ba66f97d21</td>\n",
       "      <td>FATICK</td>\n",
       "      <td>K &gt; 24 month</td>\n",
       "      <td>1500.0</td>\n",
       "      <td>3.0</td>\n",
       "      <td>2497.0</td>\n",
       "      <td>832.0</td>\n",
       "      <td>4.0</td>\n",
       "      <td>0.0</td>\n",
       "      <td>159.0</td>\n",
       "      <td>45.0</td>\n",
       "      <td>19.0</td>\n",
       "      <td>18</td>\n",
       "      <td>Call</td>\n",
       "      <td>3.0</td>\n",
       "      <td>0</td>\n",
       "    </tr>\n",
       "    <tr>\n",
       "      <th>4</th>\n",
       "      <td>ec45e1a1888a32b5dcce0954cfec20c6e037db31</td>\n",
       "      <td>FATICK</td>\n",
       "      <td>K &gt; 24 month</td>\n",
       "      <td>3000.0</td>\n",
       "      <td>7.0</td>\n",
       "      <td>498.0</td>\n",
       "      <td>166.0</td>\n",
       "      <td>3.0</td>\n",
       "      <td>1.0</td>\n",
       "      <td>1.0</td>\n",
       "      <td>3.0</td>\n",
       "      <td>6.0</td>\n",
       "      <td>50</td>\n",
       "      <td>Unknown_topack</td>\n",
       "      <td>5.0</td>\n",
       "      <td>0</td>\n",
       "    </tr>\n",
       "    <tr>\n",
       "      <th>5</th>\n",
       "      <td>2bd9ab2983615149380a63f44a66780f4fa19a4a</td>\n",
       "      <td>THIES</td>\n",
       "      <td>K &gt; 24 month</td>\n",
       "      <td>5500.0</td>\n",
       "      <td>9.0</td>\n",
       "      <td>5359.0</td>\n",
       "      <td>1786.0</td>\n",
       "      <td>19.0</td>\n",
       "      <td>6084.0</td>\n",
       "      <td>7.0</td>\n",
       "      <td>12.0</td>\n",
       "      <td>5.0</td>\n",
       "      <td>30</td>\n",
       "      <td>Data</td>\n",
       "      <td>7.0</td>\n",
       "      <td>0</td>\n",
       "    </tr>\n",
       "    <tr>\n",
       "      <th>6</th>\n",
       "      <td>b2d9c4bdceaafe305e8424c97f64e4ba880d0a97</td>\n",
       "      <td>Unknown_region</td>\n",
       "      <td>K &gt; 24 month</td>\n",
       "      <td>3000.0</td>\n",
       "      <td>7.0</td>\n",
       "      <td>3000.0</td>\n",
       "      <td>1000.0</td>\n",
       "      <td>9.0</td>\n",
       "      <td>268.0</td>\n",
       "      <td>27.0</td>\n",
       "      <td>28.0</td>\n",
       "      <td>6.0</td>\n",
       "      <td>7</td>\n",
       "      <td>Unknown_topack</td>\n",
       "      <td>5.0</td>\n",
       "      <td>0</td>\n",
       "    </tr>\n",
       "    <tr>\n",
       "      <th>7</th>\n",
       "      <td>8ebce4e82fa049f96ff1aa460217171af4e4ede1</td>\n",
       "      <td>SAINT-LOUIS</td>\n",
       "      <td>H 15-18 month</td>\n",
       "      <td>3000.0</td>\n",
       "      <td>7.0</td>\n",
       "      <td>3000.0</td>\n",
       "      <td>1000.0</td>\n",
       "      <td>9.0</td>\n",
       "      <td>0.0</td>\n",
       "      <td>27.0</td>\n",
       "      <td>28.0</td>\n",
       "      <td>6.0</td>\n",
       "      <td>5</td>\n",
       "      <td>Unknown_topack</td>\n",
       "      <td>5.0</td>\n",
       "      <td>1</td>\n",
       "    </tr>\n",
       "    <tr>\n",
       "      <th>8</th>\n",
       "      <td>ebfbd28870a7663d49ec79799f9fd59e8c5655ed</td>\n",
       "      <td>TAMBACOUNDA</td>\n",
       "      <td>K &gt; 24 month</td>\n",
       "      <td>22500.0</td>\n",
       "      <td>8.0</td>\n",
       "      <td>22230.0</td>\n",
       "      <td>7410.0</td>\n",
       "      <td>16.0</td>\n",
       "      <td>14956.0</td>\n",
       "      <td>6336.0</td>\n",
       "      <td>1017.0</td>\n",
       "      <td>185.0</td>\n",
       "      <td>62</td>\n",
       "      <td>Data</td>\n",
       "      <td>3.0</td>\n",
       "      <td>0</td>\n",
       "    </tr>\n",
       "    <tr>\n",
       "      <th>9</th>\n",
       "      <td>cf5d5edda4805f7f526884cee8bde797213eeefa</td>\n",
       "      <td>Unknown_region</td>\n",
       "      <td>G 12-15 month</td>\n",
       "      <td>3000.0</td>\n",
       "      <td>7.0</td>\n",
       "      <td>3000.0</td>\n",
       "      <td>1000.0</td>\n",
       "      <td>9.0</td>\n",
       "      <td>268.0</td>\n",
       "      <td>27.0</td>\n",
       "      <td>28.0</td>\n",
       "      <td>6.0</td>\n",
       "      <td>1</td>\n",
       "      <td>Unknown_topack</td>\n",
       "      <td>5.0</td>\n",
       "      <td>0</td>\n",
       "    </tr>\n",
       "  </tbody>\n",
       "</table>\n",
       "</div>"
      ],
      "text/plain": [
       "                                    user_id          region         tenure  \\\n",
       "0  dcf68cc2fb515ccad7d8b9b3bd80ee2a4b270063     SAINT-LOUIS   K > 24 month   \n",
       "1  71c44b5ba328db5c4192a80f7cf8f244d9350ed0  Unknown_region   K > 24 month   \n",
       "2  ce46411b1526c94f20a383b8cb188f8d27f82a0a     TAMBACOUNDA   K > 24 month   \n",
       "3  f467cdb6669818373c26c2bad44e01ba66f97d21          FATICK   K > 24 month   \n",
       "4  ec45e1a1888a32b5dcce0954cfec20c6e037db31          FATICK   K > 24 month   \n",
       "5  2bd9ab2983615149380a63f44a66780f4fa19a4a           THIES   K > 24 month   \n",
       "6  b2d9c4bdceaafe305e8424c97f64e4ba880d0a97  Unknown_region   K > 24 month   \n",
       "7  8ebce4e82fa049f96ff1aa460217171af4e4ede1     SAINT-LOUIS  H 15-18 month   \n",
       "8  ebfbd28870a7663d49ec79799f9fd59e8c5655ed     TAMBACOUNDA   K > 24 month   \n",
       "9  cf5d5edda4805f7f526884cee8bde797213eeefa  Unknown_region  G 12-15 month   \n",
       "\n",
       "   montant  frequence_rech  revenue  arpu_segment  frequence  data_volume  \\\n",
       "0  17000.0            32.0  18000.0        6000.0       34.0        268.0   \n",
       "1   4300.0            29.0   4427.0        1476.0       37.0       1764.0   \n",
       "2   1500.0             3.0   1500.0         500.0        3.0        268.0   \n",
       "3   1500.0             3.0   2497.0         832.0        4.0          0.0   \n",
       "4   3000.0             7.0    498.0         166.0        3.0          1.0   \n",
       "5   5500.0             9.0   5359.0        1786.0       19.0       6084.0   \n",
       "6   3000.0             7.0   3000.0        1000.0        9.0        268.0   \n",
       "7   3000.0             7.0   3000.0        1000.0        9.0          0.0   \n",
       "8  22500.0             8.0  22230.0        7410.0       16.0      14956.0   \n",
       "9   3000.0             7.0   3000.0        1000.0        9.0        268.0   \n",
       "\n",
       "   on_net  orange   tigo  regularity        top_pack  freq_top_pack  churn  \n",
       "0    97.0   355.0    6.0          62            Call           35.0      0  \n",
       "1     8.0     3.0    0.0          40            Data           22.0      0  \n",
       "2    30.0    30.0    6.0          32            Call            3.0      0  \n",
       "3   159.0    45.0   19.0          18            Call            3.0      0  \n",
       "4     1.0     3.0    6.0          50  Unknown_topack            5.0      0  \n",
       "5     7.0    12.0    5.0          30            Data            7.0      0  \n",
       "6    27.0    28.0    6.0           7  Unknown_topack            5.0      0  \n",
       "7    27.0    28.0    6.0           5  Unknown_topack            5.0      1  \n",
       "8  6336.0  1017.0  185.0          62            Data            3.0      0  \n",
       "9    27.0    28.0    6.0           1  Unknown_topack            5.0      0  "
      ]
     },
     "execution_count": 189,
     "metadata": {},
     "output_type": "execute_result"
    }
   ],
   "source": [
    "train.head(10)"
   ]
  },
  {
   "cell_type": "code",
   "execution_count": 190,
   "metadata": {},
   "outputs": [
    {
     "data": {
      "text/html": [
       "<div>\n",
       "<style>\n",
       "    .dataframe thead tr:only-child th {\n",
       "        text-align: right;\n",
       "    }\n",
       "\n",
       "    .dataframe thead th {\n",
       "        text-align: left;\n",
       "    }\n",
       "\n",
       "    .dataframe tbody tr th {\n",
       "        vertical-align: top;\n",
       "    }\n",
       "</style>\n",
       "<table border=\"1\" class=\"dataframe\">\n",
       "  <thead>\n",
       "    <tr style=\"text-align: right;\">\n",
       "      <th></th>\n",
       "      <th>user_id</th>\n",
       "      <th>region</th>\n",
       "      <th>tenure</th>\n",
       "      <th>montant</th>\n",
       "      <th>frequence_rech</th>\n",
       "      <th>revenue</th>\n",
       "      <th>arpu_segment</th>\n",
       "      <th>frequence</th>\n",
       "      <th>data_volume</th>\n",
       "      <th>on_net</th>\n",
       "      <th>orange</th>\n",
       "      <th>tigo</th>\n",
       "      <th>regularity</th>\n",
       "      <th>top_pack</th>\n",
       "      <th>freq_top_pack</th>\n",
       "    </tr>\n",
       "  </thead>\n",
       "  <tbody>\n",
       "    <tr>\n",
       "      <th>0</th>\n",
       "      <td>af900d87e73b7ff6509d2203df4704a98aa5f2a6</td>\n",
       "      <td>Unknown_region</td>\n",
       "      <td>K &gt; 24 month</td>\n",
       "      <td>3000.0</td>\n",
       "      <td>7.0</td>\n",
       "      <td>3000.0</td>\n",
       "      <td>1000.0</td>\n",
       "      <td>9.0</td>\n",
       "      <td>268.0</td>\n",
       "      <td>27.0</td>\n",
       "      <td>28.0</td>\n",
       "      <td>6.0</td>\n",
       "      <td>1</td>\n",
       "      <td>Unknown_topack</td>\n",
       "      <td>5.0</td>\n",
       "    </tr>\n",
       "    <tr>\n",
       "      <th>1</th>\n",
       "      <td>5335efd940280b82143272275637d1e65d37eadb</td>\n",
       "      <td>Unknown_region</td>\n",
       "      <td>K &gt; 24 month</td>\n",
       "      <td>3000.0</td>\n",
       "      <td>7.0</td>\n",
       "      <td>10.0</td>\n",
       "      <td>3.0</td>\n",
       "      <td>1.0</td>\n",
       "      <td>268.0</td>\n",
       "      <td>27.0</td>\n",
       "      <td>28.0</td>\n",
       "      <td>6.0</td>\n",
       "      <td>2</td>\n",
       "      <td>Unknown_topack</td>\n",
       "      <td>5.0</td>\n",
       "    </tr>\n",
       "    <tr>\n",
       "      <th>2</th>\n",
       "      <td>a581f4fa08677c26f83f643248c667e241043086</td>\n",
       "      <td>Unknown_region</td>\n",
       "      <td>K &gt; 24 month</td>\n",
       "      <td>1900.0</td>\n",
       "      <td>15.0</td>\n",
       "      <td>2299.0</td>\n",
       "      <td>766.0</td>\n",
       "      <td>21.0</td>\n",
       "      <td>414.0</td>\n",
       "      <td>27.0</td>\n",
       "      <td>7.0</td>\n",
       "      <td>2.0</td>\n",
       "      <td>27</td>\n",
       "      <td>Data</td>\n",
       "      <td>17.0</td>\n",
       "    </tr>\n",
       "    <tr>\n",
       "      <th>3</th>\n",
       "      <td>64f67177d0775262b8087a9e2e3b8061b6324ae6</td>\n",
       "      <td>DAKAR</td>\n",
       "      <td>K &gt; 24 month</td>\n",
       "      <td>3000.0</td>\n",
       "      <td>9.0</td>\n",
       "      <td>2603.0</td>\n",
       "      <td>868.0</td>\n",
       "      <td>14.0</td>\n",
       "      <td>332.0</td>\n",
       "      <td>0.0</td>\n",
       "      <td>23.0</td>\n",
       "      <td>4.0</td>\n",
       "      <td>46</td>\n",
       "      <td>IVR Echat_Daily_50F</td>\n",
       "      <td>3.0</td>\n",
       "    </tr>\n",
       "    <tr>\n",
       "      <th>4</th>\n",
       "      <td>0d6009a4594c4be22449b8d9cc01a0bcea98faea</td>\n",
       "      <td>DAKAR</td>\n",
       "      <td>K &gt; 24 month</td>\n",
       "      <td>32000.0</td>\n",
       "      <td>47.0</td>\n",
       "      <td>33000.0</td>\n",
       "      <td>11000.0</td>\n",
       "      <td>47.0</td>\n",
       "      <td>268.0</td>\n",
       "      <td>128.0</td>\n",
       "      <td>555.0</td>\n",
       "      <td>280.0</td>\n",
       "      <td>61</td>\n",
       "      <td>Call</td>\n",
       "      <td>65.0</td>\n",
       "    </tr>\n",
       "    <tr>\n",
       "      <th>5</th>\n",
       "      <td>43dc48b3447e69dd2160b05de193fc1694edd54a</td>\n",
       "      <td>Unknown_region</td>\n",
       "      <td>K &gt; 24 month</td>\n",
       "      <td>3000.0</td>\n",
       "      <td>7.0</td>\n",
       "      <td>3000.0</td>\n",
       "      <td>1000.0</td>\n",
       "      <td>9.0</td>\n",
       "      <td>44.0</td>\n",
       "      <td>27.0</td>\n",
       "      <td>28.0</td>\n",
       "      <td>6.0</td>\n",
       "      <td>22</td>\n",
       "      <td>Unknown_topack</td>\n",
       "      <td>5.0</td>\n",
       "    </tr>\n",
       "    <tr>\n",
       "      <th>6</th>\n",
       "      <td>1db4bb61710bb25063217297d8cd8c4d4cdfcbbc</td>\n",
       "      <td>KAFFRINE</td>\n",
       "      <td>K &gt; 24 month</td>\n",
       "      <td>200.0</td>\n",
       "      <td>1.0</td>\n",
       "      <td>3000.0</td>\n",
       "      <td>1000.0</td>\n",
       "      <td>9.0</td>\n",
       "      <td>268.0</td>\n",
       "      <td>27.0</td>\n",
       "      <td>28.0</td>\n",
       "      <td>6.0</td>\n",
       "      <td>12</td>\n",
       "      <td>Unknown_topack</td>\n",
       "      <td>5.0</td>\n",
       "    </tr>\n",
       "    <tr>\n",
       "      <th>7</th>\n",
       "      <td>37f4f47f7d359015945946cf6762782c4026836a</td>\n",
       "      <td>Unknown_region</td>\n",
       "      <td>K &gt; 24 month</td>\n",
       "      <td>3000.0</td>\n",
       "      <td>7.0</td>\n",
       "      <td>3000.0</td>\n",
       "      <td>1000.0</td>\n",
       "      <td>9.0</td>\n",
       "      <td>268.0</td>\n",
       "      <td>27.0</td>\n",
       "      <td>28.0</td>\n",
       "      <td>6.0</td>\n",
       "      <td>4</td>\n",
       "      <td>Unknown_topack</td>\n",
       "      <td>5.0</td>\n",
       "    </tr>\n",
       "    <tr>\n",
       "      <th>8</th>\n",
       "      <td>e74408b87372327c95136af36ec4155219e07269</td>\n",
       "      <td>DAKAR</td>\n",
       "      <td>K &gt; 24 month</td>\n",
       "      <td>5500.0</td>\n",
       "      <td>16.0</td>\n",
       "      <td>5611.0</td>\n",
       "      <td>1870.0</td>\n",
       "      <td>17.0</td>\n",
       "      <td>2105.0</td>\n",
       "      <td>65.0</td>\n",
       "      <td>66.0</td>\n",
       "      <td>8.0</td>\n",
       "      <td>56</td>\n",
       "      <td>Data</td>\n",
       "      <td>4.0</td>\n",
       "    </tr>\n",
       "    <tr>\n",
       "      <th>9</th>\n",
       "      <td>7e6d0759abf78b490862e77284ace9dd9ae42630</td>\n",
       "      <td>Unknown_region</td>\n",
       "      <td>K &gt; 24 month</td>\n",
       "      <td>3500.0</td>\n",
       "      <td>4.0</td>\n",
       "      <td>3490.0</td>\n",
       "      <td>1163.0</td>\n",
       "      <td>4.0</td>\n",
       "      <td>123.0</td>\n",
       "      <td>28.0</td>\n",
       "      <td>1.0</td>\n",
       "      <td>6.0</td>\n",
       "      <td>61</td>\n",
       "      <td>Call</td>\n",
       "      <td>2.0</td>\n",
       "    </tr>\n",
       "  </tbody>\n",
       "</table>\n",
       "</div>"
      ],
      "text/plain": [
       "                                    user_id          region        tenure  \\\n",
       "0  af900d87e73b7ff6509d2203df4704a98aa5f2a6  Unknown_region  K > 24 month   \n",
       "1  5335efd940280b82143272275637d1e65d37eadb  Unknown_region  K > 24 month   \n",
       "2  a581f4fa08677c26f83f643248c667e241043086  Unknown_region  K > 24 month   \n",
       "3  64f67177d0775262b8087a9e2e3b8061b6324ae6           DAKAR  K > 24 month   \n",
       "4  0d6009a4594c4be22449b8d9cc01a0bcea98faea           DAKAR  K > 24 month   \n",
       "5  43dc48b3447e69dd2160b05de193fc1694edd54a  Unknown_region  K > 24 month   \n",
       "6  1db4bb61710bb25063217297d8cd8c4d4cdfcbbc        KAFFRINE  K > 24 month   \n",
       "7  37f4f47f7d359015945946cf6762782c4026836a  Unknown_region  K > 24 month   \n",
       "8  e74408b87372327c95136af36ec4155219e07269           DAKAR  K > 24 month   \n",
       "9  7e6d0759abf78b490862e77284ace9dd9ae42630  Unknown_region  K > 24 month   \n",
       "\n",
       "   montant  frequence_rech  revenue  arpu_segment  frequence  data_volume  \\\n",
       "0   3000.0             7.0   3000.0        1000.0        9.0        268.0   \n",
       "1   3000.0             7.0     10.0           3.0        1.0        268.0   \n",
       "2   1900.0            15.0   2299.0         766.0       21.0        414.0   \n",
       "3   3000.0             9.0   2603.0         868.0       14.0        332.0   \n",
       "4  32000.0            47.0  33000.0       11000.0       47.0        268.0   \n",
       "5   3000.0             7.0   3000.0        1000.0        9.0         44.0   \n",
       "6    200.0             1.0   3000.0        1000.0        9.0        268.0   \n",
       "7   3000.0             7.0   3000.0        1000.0        9.0        268.0   \n",
       "8   5500.0            16.0   5611.0        1870.0       17.0       2105.0   \n",
       "9   3500.0             4.0   3490.0        1163.0        4.0        123.0   \n",
       "\n",
       "   on_net  orange   tigo  regularity             top_pack  freq_top_pack  \n",
       "0    27.0    28.0    6.0           1       Unknown_topack            5.0  \n",
       "1    27.0    28.0    6.0           2       Unknown_topack            5.0  \n",
       "2    27.0     7.0    2.0          27                 Data           17.0  \n",
       "3     0.0    23.0    4.0          46  IVR Echat_Daily_50F            3.0  \n",
       "4   128.0   555.0  280.0          61                 Call           65.0  \n",
       "5    27.0    28.0    6.0          22       Unknown_topack            5.0  \n",
       "6    27.0    28.0    6.0          12       Unknown_topack            5.0  \n",
       "7    27.0    28.0    6.0           4       Unknown_topack            5.0  \n",
       "8    65.0    66.0    8.0          56                 Data            4.0  \n",
       "9    28.0     1.0    6.0          61                 Call            2.0  "
      ]
     },
     "execution_count": 190,
     "metadata": {},
     "output_type": "execute_result"
    }
   ],
   "source": [
    "test.head(10)"
   ]
  },
  {
   "cell_type": "code",
   "execution_count": 191,
   "metadata": {},
   "outputs": [
    {
     "data": {
      "text/html": [
       "<div>\n",
       "<style>\n",
       "    .dataframe thead tr:only-child th {\n",
       "        text-align: right;\n",
       "    }\n",
       "\n",
       "    .dataframe thead th {\n",
       "        text-align: left;\n",
       "    }\n",
       "\n",
       "    .dataframe tbody tr th {\n",
       "        vertical-align: top;\n",
       "    }\n",
       "</style>\n",
       "<table border=\"1\" class=\"dataframe\">\n",
       "  <thead>\n",
       "    <tr style=\"text-align: right;\">\n",
       "      <th></th>\n",
       "      <th>montant</th>\n",
       "      <th>revenue</th>\n",
       "      <th>arpu_segment</th>\n",
       "      <th>data_volume</th>\n",
       "      <th>regularity</th>\n",
       "    </tr>\n",
       "    <tr>\n",
       "      <th>region</th>\n",
       "      <th></th>\n",
       "      <th></th>\n",
       "      <th></th>\n",
       "      <th></th>\n",
       "      <th></th>\n",
       "    </tr>\n",
       "  </thead>\n",
       "  <tbody>\n",
       "    <tr>\n",
       "      <th>DAKAR</th>\n",
       "      <td>6712.087283</td>\n",
       "      <td>6806.060115</td>\n",
       "      <td>2268.688495</td>\n",
       "      <td>3748.944931</td>\n",
       "      <td>37.861616</td>\n",
       "    </tr>\n",
       "    <tr>\n",
       "      <th>DIOURBEL</th>\n",
       "      <td>3587.986721</td>\n",
       "      <td>3560.832379</td>\n",
       "      <td>1186.948632</td>\n",
       "      <td>2255.854882</td>\n",
       "      <td>30.421120</td>\n",
       "    </tr>\n",
       "    <tr>\n",
       "      <th>FATICK</th>\n",
       "      <td>4341.308225</td>\n",
       "      <td>4369.779000</td>\n",
       "      <td>1456.600482</td>\n",
       "      <td>840.879482</td>\n",
       "      <td>38.479211</td>\n",
       "    </tr>\n",
       "    <tr>\n",
       "      <th>KAFFRINE</th>\n",
       "      <td>4483.809803</td>\n",
       "      <td>4524.079819</td>\n",
       "      <td>1508.034959</td>\n",
       "      <td>446.068451</td>\n",
       "      <td>38.702359</td>\n",
       "    </tr>\n",
       "    <tr>\n",
       "      <th>KAOLACK</th>\n",
       "      <td>4545.288992</td>\n",
       "      <td>4564.678750</td>\n",
       "      <td>1521.567731</td>\n",
       "      <td>1526.624931</td>\n",
       "      <td>37.658297</td>\n",
       "    </tr>\n",
       "    <tr>\n",
       "      <th>KEDOUGOU</th>\n",
       "      <td>6497.237569</td>\n",
       "      <td>6509.707182</td>\n",
       "      <td>2169.895028</td>\n",
       "      <td>1035.397790</td>\n",
       "      <td>32.204420</td>\n",
       "    </tr>\n",
       "    <tr>\n",
       "      <th>KOLDA</th>\n",
       "      <td>4891.919906</td>\n",
       "      <td>4939.798723</td>\n",
       "      <td>1646.602860</td>\n",
       "      <td>447.676707</td>\n",
       "      <td>40.237507</td>\n",
       "    </tr>\n",
       "    <tr>\n",
       "      <th>LOUGA</th>\n",
       "      <td>4474.577756</td>\n",
       "      <td>4494.365149</td>\n",
       "      <td>1498.130179</td>\n",
       "      <td>878.927780</td>\n",
       "      <td>38.515692</td>\n",
       "    </tr>\n",
       "    <tr>\n",
       "      <th>MATAM</th>\n",
       "      <td>4537.861275</td>\n",
       "      <td>4568.696670</td>\n",
       "      <td>1522.901427</td>\n",
       "      <td>1013.613701</td>\n",
       "      <td>34.895147</td>\n",
       "    </tr>\n",
       "    <tr>\n",
       "      <th>SAINT-LOUIS</th>\n",
       "      <td>5561.170169</td>\n",
       "      <td>5598.741107</td>\n",
       "      <td>1866.249853</td>\n",
       "      <td>1439.769808</td>\n",
       "      <td>39.064814</td>\n",
       "    </tr>\n",
       "    <tr>\n",
       "      <th>SEDHIOU</th>\n",
       "      <td>3953.414261</td>\n",
       "      <td>3925.825127</td>\n",
       "      <td>1308.609508</td>\n",
       "      <td>1253.806452</td>\n",
       "      <td>30.439728</td>\n",
       "    </tr>\n",
       "    <tr>\n",
       "      <th>TAMBACOUNDA</th>\n",
       "      <td>5265.554853</td>\n",
       "      <td>5327.811545</td>\n",
       "      <td>1775.942276</td>\n",
       "      <td>776.665726</td>\n",
       "      <td>39.580259</td>\n",
       "    </tr>\n",
       "    <tr>\n",
       "      <th>THIES</th>\n",
       "      <td>5334.629202</td>\n",
       "      <td>5387.722988</td>\n",
       "      <td>1795.912746</td>\n",
       "      <td>1977.057620</td>\n",
       "      <td>37.749715</td>\n",
       "    </tr>\n",
       "    <tr>\n",
       "      <th>Unknown_region</th>\n",
       "      <td>3180.091398</td>\n",
       "      <td>3153.525013</td>\n",
       "      <td>1051.177400</td>\n",
       "      <td>1117.556945</td>\n",
       "      <td>13.298286</td>\n",
       "    </tr>\n",
       "    <tr>\n",
       "      <th>ZIGUINCHOR</th>\n",
       "      <td>4984.259970</td>\n",
       "      <td>5010.385344</td>\n",
       "      <td>1670.128116</td>\n",
       "      <td>1614.218345</td>\n",
       "      <td>33.038634</td>\n",
       "    </tr>\n",
       "  </tbody>\n",
       "</table>\n",
       "</div>"
      ],
      "text/plain": [
       "                    montant      revenue  arpu_segment  data_volume  \\\n",
       "region                                                                \n",
       "DAKAR           6712.087283  6806.060115   2268.688495  3748.944931   \n",
       "DIOURBEL        3587.986721  3560.832379   1186.948632  2255.854882   \n",
       "FATICK          4341.308225  4369.779000   1456.600482   840.879482   \n",
       "KAFFRINE        4483.809803  4524.079819   1508.034959   446.068451   \n",
       "KAOLACK         4545.288992  4564.678750   1521.567731  1526.624931   \n",
       "KEDOUGOU        6497.237569  6509.707182   2169.895028  1035.397790   \n",
       "KOLDA           4891.919906  4939.798723   1646.602860   447.676707   \n",
       "LOUGA           4474.577756  4494.365149   1498.130179   878.927780   \n",
       "MATAM           4537.861275  4568.696670   1522.901427  1013.613701   \n",
       "SAINT-LOUIS     5561.170169  5598.741107   1866.249853  1439.769808   \n",
       "SEDHIOU         3953.414261  3925.825127   1308.609508  1253.806452   \n",
       "TAMBACOUNDA     5265.554853  5327.811545   1775.942276   776.665726   \n",
       "THIES           5334.629202  5387.722988   1795.912746  1977.057620   \n",
       "Unknown_region  3180.091398  3153.525013   1051.177400  1117.556945   \n",
       "ZIGUINCHOR      4984.259970  5010.385344   1670.128116  1614.218345   \n",
       "\n",
       "                regularity  \n",
       "region                      \n",
       "DAKAR            37.861616  \n",
       "DIOURBEL         30.421120  \n",
       "FATICK           38.479211  \n",
       "KAFFRINE         38.702359  \n",
       "KAOLACK          37.658297  \n",
       "KEDOUGOU         32.204420  \n",
       "KOLDA            40.237507  \n",
       "LOUGA            38.515692  \n",
       "MATAM            34.895147  \n",
       "SAINT-LOUIS      39.064814  \n",
       "SEDHIOU          30.439728  \n",
       "TAMBACOUNDA      39.580259  \n",
       "THIES            37.749715  \n",
       "Unknown_region   13.298286  \n",
       "ZIGUINCHOR       33.038634  "
      ]
     },
     "execution_count": 191,
     "metadata": {},
     "output_type": "execute_result"
    }
   ],
   "source": [
    "train[['region', 'montant', 'revenue', 'arpu_segment', 'data_volume', 'regularity']].groupby('region').mean()"
   ]
  },
  {
   "cell_type": "markdown",
   "metadata": {},
   "source": [
    "From the table above, we see that unknown_regions have the least regularity-a feature that is highly determinant of churn"
   ]
  },
  {
   "cell_type": "code",
   "execution_count": 192,
   "metadata": {},
   "outputs": [
    {
     "data": {
      "text/html": [
       "<div>\n",
       "<style>\n",
       "    .dataframe thead tr:only-child th {\n",
       "        text-align: right;\n",
       "    }\n",
       "\n",
       "    .dataframe thead th {\n",
       "        text-align: left;\n",
       "    }\n",
       "\n",
       "    .dataframe tbody tr th {\n",
       "        vertical-align: top;\n",
       "    }\n",
       "</style>\n",
       "<table border=\"1\" class=\"dataframe\">\n",
       "  <thead>\n",
       "    <tr style=\"text-align: right;\">\n",
       "      <th></th>\n",
       "      <th>montant</th>\n",
       "      <th>revenue</th>\n",
       "      <th>data_volume</th>\n",
       "      <th>regularity</th>\n",
       "    </tr>\n",
       "    <tr>\n",
       "      <th>churn</th>\n",
       "      <th></th>\n",
       "      <th></th>\n",
       "      <th></th>\n",
       "      <th></th>\n",
       "    </tr>\n",
       "  </thead>\n",
       "  <tbody>\n",
       "    <tr>\n",
       "      <th>0</th>\n",
       "      <td>5045.912258</td>\n",
       "      <td>5086.249699</td>\n",
       "      <td>2136.389862</td>\n",
       "      <td>33.168568</td>\n",
       "    </tr>\n",
       "    <tr>\n",
       "      <th>1</th>\n",
       "      <td>2866.830220</td>\n",
       "      <td>2818.849848</td>\n",
       "      <td>569.863369</td>\n",
       "      <td>5.793945</td>\n",
       "    </tr>\n",
       "  </tbody>\n",
       "</table>\n",
       "</div>"
      ],
      "text/plain": [
       "           montant      revenue  data_volume  regularity\n",
       "churn                                                   \n",
       "0      5045.912258  5086.249699  2136.389862   33.168568\n",
       "1      2866.830220  2818.849848   569.863369    5.793945"
      ]
     },
     "execution_count": 192,
     "metadata": {},
     "output_type": "execute_result"
    }
   ],
   "source": [
    "train[['churn', 'montant', 'revenue', 'data_volume', 'regularity']].groupby('churn').mean()"
   ]
  },
  {
   "cell_type": "code",
   "execution_count": 193,
   "metadata": {
    "scrolled": true
   },
   "outputs": [
    {
     "data": {
      "text/html": [
       "<div>\n",
       "<style>\n",
       "    .dataframe thead tr:only-child th {\n",
       "        text-align: right;\n",
       "    }\n",
       "\n",
       "    .dataframe thead th {\n",
       "        text-align: left;\n",
       "    }\n",
       "\n",
       "    .dataframe tbody tr th {\n",
       "        vertical-align: top;\n",
       "    }\n",
       "</style>\n",
       "<table border=\"1\" class=\"dataframe\">\n",
       "  <thead>\n",
       "    <tr style=\"text-align: right;\">\n",
       "      <th>tenure</th>\n",
       "      <th>D 3-6 month</th>\n",
       "      <th>E 6-9 month</th>\n",
       "      <th>F 9-12 month</th>\n",
       "      <th>G 12-15 month</th>\n",
       "      <th>H 15-18 month</th>\n",
       "      <th>I 18-21 month</th>\n",
       "      <th>J 21-24 month</th>\n",
       "      <th>K &gt; 24 month</th>\n",
       "    </tr>\n",
       "  </thead>\n",
       "  <tbody>\n",
       "    <tr>\n",
       "      <th>regularity</th>\n",
       "      <td>16.851351</td>\n",
       "      <td>31.348189</td>\n",
       "      <td>24.9345</td>\n",
       "      <td>22.849713</td>\n",
       "      <td>25.287773</td>\n",
       "      <td>25.316771</td>\n",
       "      <td>26.914839</td>\n",
       "      <td>28.202507</td>\n",
       "    </tr>\n",
       "  </tbody>\n",
       "</table>\n",
       "</div>"
      ],
      "text/plain": [
       "tenure      D 3-6 month  E 6-9 month  F 9-12 month  G 12-15 month  \\\n",
       "regularity    16.851351    31.348189       24.9345      22.849713   \n",
       "\n",
       "tenure      H 15-18 month  I 18-21 month  J 21-24 month  K > 24 month  \n",
       "regularity      25.287773      25.316771      26.914839     28.202507  "
      ]
     },
     "execution_count": 193,
     "metadata": {},
     "output_type": "execute_result"
    }
   ],
   "source": [
    "train[['tenure', 'regularity']].groupby('tenure').mean().T"
   ]
  },
  {
   "cell_type": "markdown",
   "metadata": {},
   "source": [
    "People who stayed for a period of 6 -9months are more active for a period of 90days."
   ]
  },
  {
   "cell_type": "code",
   "execution_count": 194,
   "metadata": {},
   "outputs": [
    {
     "data": {
      "text/html": [
       "<div>\n",
       "<style>\n",
       "    .dataframe thead tr:only-child th {\n",
       "        text-align: right;\n",
       "    }\n",
       "\n",
       "    .dataframe thead th {\n",
       "        text-align: left;\n",
       "    }\n",
       "\n",
       "    .dataframe tbody tr th {\n",
       "        vertical-align: top;\n",
       "    }\n",
       "</style>\n",
       "<table border=\"1\" class=\"dataframe\">\n",
       "  <thead>\n",
       "    <tr style=\"text-align: right;\">\n",
       "      <th></th>\n",
       "      <th>regularity</th>\n",
       "    </tr>\n",
       "    <tr>\n",
       "      <th>churn</th>\n",
       "      <th></th>\n",
       "    </tr>\n",
       "  </thead>\n",
       "  <tbody>\n",
       "    <tr>\n",
       "      <th>0</th>\n",
       "      <td>34</td>\n",
       "    </tr>\n",
       "    <tr>\n",
       "      <th>1</th>\n",
       "      <td>2</td>\n",
       "    </tr>\n",
       "  </tbody>\n",
       "</table>\n",
       "</div>"
      ],
      "text/plain": [
       "       regularity\n",
       "churn            \n",
       "0              34\n",
       "1               2"
      ]
     },
     "execution_count": 194,
     "metadata": {},
     "output_type": "execute_result"
    }
   ],
   "source": [
    "train[['churn', 'regularity']].groupby('churn').median()"
   ]
  },
  {
   "cell_type": "markdown",
   "metadata": {},
   "source": [
    "#### Feature Engineering\n",
    "- Adding the tigo and orange calls to create a new column called OFF_NET\n",
    "- Adding the resulting offnet and onnet to create a new colum called CALL_VOLUME"
   ]
  },
  {
   "cell_type": "code",
   "execution_count": 195,
   "metadata": {
    "collapsed": true
   },
   "outputs": [],
   "source": [
    "train['off_net'] = train['orange'] + train['tigo']\n",
    "test['off_net'] = test['orange'] + test['tigo']\n",
    "\n",
    "train['call_volume'] = train['off_net'] + train['on_net']\n",
    "test['call_volume'] = test['off_net'] + test['on_net']\n"
   ]
  },
  {
   "cell_type": "code",
   "execution_count": 196,
   "metadata": {
    "scrolled": true
   },
   "outputs": [
    {
     "data": {
      "text/html": [
       "<div>\n",
       "<style>\n",
       "    .dataframe thead tr:only-child th {\n",
       "        text-align: right;\n",
       "    }\n",
       "\n",
       "    .dataframe thead th {\n",
       "        text-align: left;\n",
       "    }\n",
       "\n",
       "    .dataframe tbody tr th {\n",
       "        vertical-align: top;\n",
       "    }\n",
       "</style>\n",
       "<table border=\"1\" class=\"dataframe\">\n",
       "  <thead>\n",
       "    <tr style=\"text-align: right;\">\n",
       "      <th></th>\n",
       "      <th>user_id</th>\n",
       "      <th>region</th>\n",
       "      <th>tenure</th>\n",
       "      <th>montant</th>\n",
       "      <th>frequence_rech</th>\n",
       "      <th>revenue</th>\n",
       "      <th>arpu_segment</th>\n",
       "      <th>frequence</th>\n",
       "      <th>data_volume</th>\n",
       "      <th>on_net</th>\n",
       "      <th>orange</th>\n",
       "      <th>tigo</th>\n",
       "      <th>regularity</th>\n",
       "      <th>top_pack</th>\n",
       "      <th>freq_top_pack</th>\n",
       "      <th>churn</th>\n",
       "      <th>off_net</th>\n",
       "      <th>call_volume</th>\n",
       "    </tr>\n",
       "  </thead>\n",
       "  <tbody>\n",
       "    <tr>\n",
       "      <th>0</th>\n",
       "      <td>dcf68cc2fb515ccad7d8b9b3bd80ee2a4b270063</td>\n",
       "      <td>SAINT-LOUIS</td>\n",
       "      <td>K &gt; 24 month</td>\n",
       "      <td>17000.0</td>\n",
       "      <td>32.0</td>\n",
       "      <td>18000.0</td>\n",
       "      <td>6000.0</td>\n",
       "      <td>34.0</td>\n",
       "      <td>268.0</td>\n",
       "      <td>97.0</td>\n",
       "      <td>355.0</td>\n",
       "      <td>6.0</td>\n",
       "      <td>62</td>\n",
       "      <td>Call</td>\n",
       "      <td>35.0</td>\n",
       "      <td>0</td>\n",
       "      <td>361.0</td>\n",
       "      <td>458.0</td>\n",
       "    </tr>\n",
       "    <tr>\n",
       "      <th>1</th>\n",
       "      <td>71c44b5ba328db5c4192a80f7cf8f244d9350ed0</td>\n",
       "      <td>Unknown_region</td>\n",
       "      <td>K &gt; 24 month</td>\n",
       "      <td>4300.0</td>\n",
       "      <td>29.0</td>\n",
       "      <td>4427.0</td>\n",
       "      <td>1476.0</td>\n",
       "      <td>37.0</td>\n",
       "      <td>1764.0</td>\n",
       "      <td>8.0</td>\n",
       "      <td>3.0</td>\n",
       "      <td>0.0</td>\n",
       "      <td>40</td>\n",
       "      <td>Data</td>\n",
       "      <td>22.0</td>\n",
       "      <td>0</td>\n",
       "      <td>3.0</td>\n",
       "      <td>11.0</td>\n",
       "    </tr>\n",
       "  </tbody>\n",
       "</table>\n",
       "</div>"
      ],
      "text/plain": [
       "                                    user_id          region        tenure  \\\n",
       "0  dcf68cc2fb515ccad7d8b9b3bd80ee2a4b270063     SAINT-LOUIS  K > 24 month   \n",
       "1  71c44b5ba328db5c4192a80f7cf8f244d9350ed0  Unknown_region  K > 24 month   \n",
       "\n",
       "   montant  frequence_rech  revenue  arpu_segment  frequence  data_volume  \\\n",
       "0  17000.0            32.0  18000.0        6000.0       34.0        268.0   \n",
       "1   4300.0            29.0   4427.0        1476.0       37.0       1764.0   \n",
       "\n",
       "   on_net  orange  tigo  regularity top_pack  freq_top_pack  churn  off_net  \\\n",
       "0    97.0   355.0   6.0          62     Call           35.0      0    361.0   \n",
       "1     8.0     3.0   0.0          40     Data           22.0      0      3.0   \n",
       "\n",
       "   call_volume  \n",
       "0        458.0  \n",
       "1         11.0  "
      ]
     },
     "execution_count": 196,
     "metadata": {},
     "output_type": "execute_result"
    }
   ],
   "source": [
    "train.head(2)"
   ]
  },
  {
   "cell_type": "code",
   "execution_count": 197,
   "metadata": {},
   "outputs": [
    {
     "data": {
      "text/plain": [
       "user_id           0\n",
       "region            0\n",
       "tenure            0\n",
       "montant           0\n",
       "frequence_rech    0\n",
       "revenue           0\n",
       "arpu_segment      0\n",
       "frequence         0\n",
       "data_volume       0\n",
       "on_net            0\n",
       "orange            0\n",
       "tigo              0\n",
       "regularity        0\n",
       "top_pack          0\n",
       "freq_top_pack     0\n",
       "off_net           0\n",
       "call_volume       0\n",
       "dtype: int64"
      ]
     },
     "execution_count": 197,
     "metadata": {},
     "output_type": "execute_result"
    }
   ],
   "source": [
    "train.isnull().sum()\n",
    "test.isnull().sum()"
   ]
  },
  {
   "cell_type": "code",
   "execution_count": null,
   "metadata": {
    "collapsed": true
   },
   "outputs": [],
   "source": []
  },
  {
   "cell_type": "code",
   "execution_count": 198,
   "metadata": {
    "collapsed": true
   },
   "outputs": [],
   "source": [
    "train.drop('user_id', axis = 1, inplace = True)\n",
    "test.drop('user_id', axis = 1, inplace = True)\n"
   ]
  },
  {
   "cell_type": "markdown",
   "metadata": {},
   "source": [
    "#### Testing for Class Imbalance"
   ]
  },
  {
   "cell_type": "code",
   "execution_count": 199,
   "metadata": {},
   "outputs": [
    {
     "name": "stdout",
     "output_type": "stream",
     "text": [
      "0    325156\n",
      "1     74844\n",
      "Name: churn, dtype: int64\n",
      "IN PERCENTAGE\n",
      "0    81.289\n",
      "1    18.711\n",
      "Name: churn, dtype: float64\n"
     ]
    }
   ],
   "source": [
    "churn_count = train['churn'].value_counts()\n",
    "print(churn_count)\n",
    "print('IN PERCENTAGE')\n",
    "print(churn_count* 100 / len(train))"
   ]
  },
  {
   "cell_type": "markdown",
   "metadata": {},
   "source": [
    "Unsurprisingly, only 19% of the customers churned. There is a high case of class imbalance and might bias the model. This imbalanced data will be addressed when training the model"
   ]
  },
  {
   "cell_type": "code",
   "execution_count": 200,
   "metadata": {},
   "outputs": [],
   "source": [
    "# to change datatype\n",
    "num_colss = ['montant', 'frequence_rech', 'revenue', 'frequence', 'data_volume', 'on_net', 'orange', 'tigo', \n",
    "             'regularity', 'freq_top_pack', 'off_net', 'call_volume' ]\n",
    "for col in num_colss:\n",
    "    test[col] = test[col].astype(str).astype(float)"
   ]
  },
  {
   "cell_type": "markdown",
   "metadata": {},
   "source": [
    "## 3.Exploratory Data Analysis\n",
    "\n",
    "After cleaning the data and preparing it, Exploratory Data Analysis (EDA) will be performed to gather insights that will be useful for the model to learn from the data to help improve performance of the model"
   ]
  },
  {
   "cell_type": "code",
   "execution_count": null,
   "metadata": {
    "collapsed": true
   },
   "outputs": [],
   "source": []
  },
  {
   "cell_type": "code",
   "execution_count": 201,
   "metadata": {},
   "outputs": [
    {
     "data": {
      "text/html": [
       "<div>\n",
       "<style>\n",
       "    .dataframe thead tr:only-child th {\n",
       "        text-align: right;\n",
       "    }\n",
       "\n",
       "    .dataframe thead th {\n",
       "        text-align: left;\n",
       "    }\n",
       "\n",
       "    .dataframe tbody tr th {\n",
       "        vertical-align: top;\n",
       "    }\n",
       "</style>\n",
       "<table border=\"1\" class=\"dataframe\">\n",
       "  <thead>\n",
       "    <tr style=\"text-align: right;\">\n",
       "      <th></th>\n",
       "      <th>region</th>\n",
       "      <th>tenure</th>\n",
       "      <th>montant</th>\n",
       "      <th>frequence_rech</th>\n",
       "      <th>revenue</th>\n",
       "      <th>arpu_segment</th>\n",
       "      <th>frequence</th>\n",
       "      <th>data_volume</th>\n",
       "      <th>on_net</th>\n",
       "      <th>orange</th>\n",
       "      <th>tigo</th>\n",
       "      <th>regularity</th>\n",
       "      <th>top_pack</th>\n",
       "      <th>freq_top_pack</th>\n",
       "      <th>churn</th>\n",
       "      <th>off_net</th>\n",
       "      <th>call_volume</th>\n",
       "    </tr>\n",
       "  </thead>\n",
       "  <tbody>\n",
       "    <tr>\n",
       "      <th>0</th>\n",
       "      <td>SAINT-LOUIS</td>\n",
       "      <td>K &gt; 24 month</td>\n",
       "      <td>17000.0</td>\n",
       "      <td>32.0</td>\n",
       "      <td>18000.0</td>\n",
       "      <td>6000.0</td>\n",
       "      <td>34.0</td>\n",
       "      <td>268.0</td>\n",
       "      <td>97.0</td>\n",
       "      <td>355.0</td>\n",
       "      <td>6.0</td>\n",
       "      <td>62</td>\n",
       "      <td>Call</td>\n",
       "      <td>35.0</td>\n",
       "      <td>0</td>\n",
       "      <td>361.0</td>\n",
       "      <td>458.0</td>\n",
       "    </tr>\n",
       "    <tr>\n",
       "      <th>1</th>\n",
       "      <td>Unknown_region</td>\n",
       "      <td>K &gt; 24 month</td>\n",
       "      <td>4300.0</td>\n",
       "      <td>29.0</td>\n",
       "      <td>4427.0</td>\n",
       "      <td>1476.0</td>\n",
       "      <td>37.0</td>\n",
       "      <td>1764.0</td>\n",
       "      <td>8.0</td>\n",
       "      <td>3.0</td>\n",
       "      <td>0.0</td>\n",
       "      <td>40</td>\n",
       "      <td>Data</td>\n",
       "      <td>22.0</td>\n",
       "      <td>0</td>\n",
       "      <td>3.0</td>\n",
       "      <td>11.0</td>\n",
       "    </tr>\n",
       "    <tr>\n",
       "      <th>2</th>\n",
       "      <td>TAMBACOUNDA</td>\n",
       "      <td>K &gt; 24 month</td>\n",
       "      <td>1500.0</td>\n",
       "      <td>3.0</td>\n",
       "      <td>1500.0</td>\n",
       "      <td>500.0</td>\n",
       "      <td>3.0</td>\n",
       "      <td>268.0</td>\n",
       "      <td>30.0</td>\n",
       "      <td>30.0</td>\n",
       "      <td>6.0</td>\n",
       "      <td>32</td>\n",
       "      <td>Call</td>\n",
       "      <td>3.0</td>\n",
       "      <td>0</td>\n",
       "      <td>36.0</td>\n",
       "      <td>66.0</td>\n",
       "    </tr>\n",
       "    <tr>\n",
       "      <th>3</th>\n",
       "      <td>FATICK</td>\n",
       "      <td>K &gt; 24 month</td>\n",
       "      <td>1500.0</td>\n",
       "      <td>3.0</td>\n",
       "      <td>2497.0</td>\n",
       "      <td>832.0</td>\n",
       "      <td>4.0</td>\n",
       "      <td>0.0</td>\n",
       "      <td>159.0</td>\n",
       "      <td>45.0</td>\n",
       "      <td>19.0</td>\n",
       "      <td>18</td>\n",
       "      <td>Call</td>\n",
       "      <td>3.0</td>\n",
       "      <td>0</td>\n",
       "      <td>64.0</td>\n",
       "      <td>223.0</td>\n",
       "    </tr>\n",
       "    <tr>\n",
       "      <th>4</th>\n",
       "      <td>FATICK</td>\n",
       "      <td>K &gt; 24 month</td>\n",
       "      <td>3000.0</td>\n",
       "      <td>7.0</td>\n",
       "      <td>498.0</td>\n",
       "      <td>166.0</td>\n",
       "      <td>3.0</td>\n",
       "      <td>1.0</td>\n",
       "      <td>1.0</td>\n",
       "      <td>3.0</td>\n",
       "      <td>6.0</td>\n",
       "      <td>50</td>\n",
       "      <td>Unknown_topack</td>\n",
       "      <td>5.0</td>\n",
       "      <td>0</td>\n",
       "      <td>9.0</td>\n",
       "      <td>10.0</td>\n",
       "    </tr>\n",
       "  </tbody>\n",
       "</table>\n",
       "</div>"
      ],
      "text/plain": [
       "           region        tenure  montant  frequence_rech  revenue  \\\n",
       "0     SAINT-LOUIS  K > 24 month  17000.0            32.0  18000.0   \n",
       "1  Unknown_region  K > 24 month   4300.0            29.0   4427.0   \n",
       "2     TAMBACOUNDA  K > 24 month   1500.0             3.0   1500.0   \n",
       "3          FATICK  K > 24 month   1500.0             3.0   2497.0   \n",
       "4          FATICK  K > 24 month   3000.0             7.0    498.0   \n",
       "\n",
       "   arpu_segment  frequence  data_volume  on_net  orange  tigo  regularity  \\\n",
       "0        6000.0       34.0        268.0    97.0   355.0   6.0          62   \n",
       "1        1476.0       37.0       1764.0     8.0     3.0   0.0          40   \n",
       "2         500.0        3.0        268.0    30.0    30.0   6.0          32   \n",
       "3         832.0        4.0          0.0   159.0    45.0  19.0          18   \n",
       "4         166.0        3.0          1.0     1.0     3.0   6.0          50   \n",
       "\n",
       "         top_pack  freq_top_pack  churn  off_net  call_volume  \n",
       "0            Call           35.0      0    361.0        458.0  \n",
       "1            Data           22.0      0      3.0         11.0  \n",
       "2            Call            3.0      0     36.0         66.0  \n",
       "3            Call            3.0      0     64.0        223.0  \n",
       "4  Unknown_topack            5.0      0      9.0         10.0  "
      ]
     },
     "execution_count": 201,
     "metadata": {},
     "output_type": "execute_result"
    }
   ],
   "source": [
    "train.head()"
   ]
  },
  {
   "cell_type": "code",
   "execution_count": 202,
   "metadata": {},
   "outputs": [
    {
     "name": "stdout",
     "output_type": "stream",
     "text": [
      "<class 'pandas.core.frame.DataFrame'>\n",
      "RangeIndex: 400000 entries, 0 to 399999\n",
      "Data columns (total 17 columns):\n",
      "region            400000 non-null object\n",
      "tenure            400000 non-null object\n",
      "montant           400000 non-null float64\n",
      "frequence_rech    400000 non-null float64\n",
      "revenue           400000 non-null float64\n",
      "arpu_segment      400000 non-null float64\n",
      "frequence         400000 non-null float64\n",
      "data_volume       400000 non-null float64\n",
      "on_net            400000 non-null float64\n",
      "orange            400000 non-null float64\n",
      "tigo              400000 non-null float64\n",
      "regularity        400000 non-null int64\n",
      "top_pack          400000 non-null object\n",
      "freq_top_pack     400000 non-null float64\n",
      "churn             400000 non-null int64\n",
      "off_net           400000 non-null float64\n",
      "call_volume       400000 non-null float64\n",
      "dtypes: float64(12), int64(2), object(3)\n",
      "memory usage: 51.9+ MB\n"
     ]
    }
   ],
   "source": [
    "train.info()"
   ]
  },
  {
   "cell_type": "markdown",
   "metadata": {},
   "source": [
    " - Univariate distribution"
   ]
  },
  {
   "cell_type": "code",
   "execution_count": 125,
   "metadata": {
    "scrolled": false
   },
   "outputs": [
    {
     "data": {
      "image/png": "[encoded data removed]",
      "text/plain": [
       "<matplotlib.figure.Figure at 0x24a732f32b0>"
      ]
     },
     "metadata": {},
     "output_type": "display_data"
    },
    {
     "data": {
      "image/png": "[encoded data removed]",
      "text/plain": [
       "<matplotlib.figure.Figure at 0x24a732f3198>"
      ]
     },
     "metadata": {},
     "output_type": "display_data"
    },
    {
     "data": {
      "image/png": "[encoded data removed]",
      "text/plain": [
       "<matplotlib.figure.Figure at 0x24a7332eef0>"
      ]
     },
     "metadata": {},
     "output_type": "display_data"
    },
    {
     "data": {
      "image/png": "[encoded data removed]",
      "text/plain": [
       "<matplotlib.figure.Figure at 0x24a016de5c0>"
      ]
     },
     "metadata": {},
     "output_type": "display_data"
    }
   ],
   "source": [
    "# Count plot for categorical\n",
    "\n",
    "def count_plot(categorical, data):\n",
    "    fig = plt.figure(edgecolor='white', figsize =(18,6))\n",
    "    axes = fig.add_axes()\n",
    "    \n",
    "    \n",
    "    sns.countplot(x = categorical, data = data, color = 'Grey', saturation=0.2, ax = axes)\n",
    "#     sns.set_style()\n",
    "    sns.despine()\n",
    "#     rcParams['figure.figsize'] = 16,8\n",
    "#     rcParams['axes.spines.top'] = False\n",
    "#     rcParams['lines.linewidth'] = 2.5\n",
    "\n",
    "for i in cat_col:\n",
    "    count_plot(i, train)\n",
    "    \n",
    "    \n",
    "# , RdGy_r, RdPu, RdPu_r, RdYlBu, RdYlBu_r, RdYlGn, RdYlGn_r, Reds, Reds_r, Set1, Set1_r, Set2, Set2_r, Set3, Set3_r, Spectral, Spectral_r, Vega10, Vega10_r, Vega20, Vega20_r, Vega20b, Vega20b_r, Vega20c, Vega20c_r, Wistia, Wistia_r, YlGn, YlGnBu, YlGnBu_r, YlGn_r, YlOrBr, YlOrBr_r, YlOrRd, YlOrRd_r, afmhot, afmhot_r, autumn, autumn_r, binary, binary_r, bone, bone_r, brg, brg_r, bwr, bwr_r, cool, cool_r, coolwarm, coolwarm_r, copper, copper_r, cubehelix, cubehelix_r, flag, flag_r, gist_earth, gist_earth_r, gist_gray, gist_gray_r, gist_heat, gist_heat_r, gist_ncar, gist_ncar_r, gist_rainbow, gist_rainbow_r, gist_stern, gist_stern_r, gist_yarg, gist_yarg_r, gnuplot, gnuplot2, gnuplot2_r, gnuplot_r, gray, gray_r, hot, hot_r, hsv, hsv_r, icefire, icefire_r, inferno, inferno_r, jet, jet_r, magma, magma_r, mako, mako_r, nipy_spectral, nipy_spectral_r, ocean, ocean_r, pink, pink_r, plasma, plasma_r, prism, prism_r, rainbow, rainbow_r, rocket, rocket_r,"
   ]
  },
  {
   "cell_type": "code",
   "execution_count": 124,
   "metadata": {
    "collapsed": true
   },
   "outputs": [],
   "source": [
    "cat_col = ['region', 'tenure', 'top_pack', 'churn']\n",
    "num_col = ['montant', 'frequence_rech', 'revenue','arpu_segment', 'frequence', 'data_volume', 'on_net', 'orange', 'tigo',\n",
    "           'freq_top_pack', 'regularity', 'off_net', 'call_volume']"
   ]
  },
  {
   "cell_type": "code",
   "execution_count": 126,
   "metadata": {
    "scrolled": false
   },
   "outputs": [
    {
     "data": {
      "image/png": "[encoded data removed]",
      "text/plain": [
       "<matplotlib.figure.Figure at 0x24a01762c50>"
      ]
     },
     "metadata": {},
     "output_type": "display_data"
    },
    {
     "data": {
      "image/png": "[encoded data removed]",
      "text/plain": [
       "<matplotlib.figure.Figure at 0x24a016f14a8>"
      ]
     },
     "metadata": {},
     "output_type": "display_data"
    },
    {
     "data": {
      "image/png": "[encoded data removed]",
      "text/plain": [
       "<matplotlib.figure.Figure at 0x24a01ea2f28>"
      ]
     },
     "metadata": {},
     "output_type": "display_data"
    },
    {
     "data": {
      "image/png": "[encoded data removed]",
      "text/plain": [
       "<matplotlib.figure.Figure at 0x24a017b4c50>"
      ]
     },
     "metadata": {},
     "output_type": "display_data"
    },
    {
     "data": {
      "image/png": "[encoded data removed]",
      "text/plain": [
       "<matplotlib.figure.Figure at 0x24a017fc748>"
      ]
     },
     "metadata": {},
     "output_type": "display_data"
    },
    {
     "data": {
      "image/png": "[encoded data removed]",
      "text/plain": [
       "<matplotlib.figure.Figure at 0x24a01838748>"
      ]
     },
     "metadata": {},
     "output_type": "display_data"
    },
    {
     "data": {
      "image/png": "[encoded data removed]",
      "text/plain": [
       "<matplotlib.figure.Figure at 0x24a0187ab70>"
      ]
     },
     "metadata": {},
     "output_type": "display_data"
    },
    {
     "data": {
      "image/png": "[encoded data removed]",
      "text/plain": [
       "<matplotlib.figure.Figure at 0x24a018cd1d0>"
      ]
     },
     "metadata": {},
     "output_type": "display_data"
    },
    {
     "data": {
      "image/png": "[encoded data removed]",
      "text/plain": [
       "<matplotlib.figure.Figure at 0x24a01919a20>"
      ]
     },
     "metadata": {},
     "output_type": "display_data"
    },
    {
     "data": {
      "image/png": "[encoded data removed]",
      "text/plain": [
       "<matplotlib.figure.Figure at 0x24a0195e710>"
      ]
     },
     "metadata": {},
     "output_type": "display_data"
    },
    {
     "data": {
      "image/png": "[encoded data removed]",
      "text/plain": [
       "<matplotlib.figure.Figure at 0x24a0205aa58>"
      ]
     },
     "metadata": {},
     "output_type": "display_data"
    },
    {
     "data": {
      "image/png": "[encoded data removed]",
      "text/plain": [
       "<matplotlib.figure.Figure at 0x24a020a3c88>"
      ]
     },
     "metadata": {},
     "output_type": "display_data"
    },
    {
     "data": {
      "image/png": "[encoded data removed]",
      "text/plain": [
       "<matplotlib.figure.Figure at 0x24a020ac2b0>"
      ]
     },
     "metadata": {},
     "output_type": "display_data"
    }
   ],
   "source": [
    "# Barplot for univariate categorical\n",
    "\n",
    "def bar_plot(cat, num, data):\n",
    "    plt.figure()\n",
    "    sns.barplot(x=cat, y =num, data= data, color ='grey', saturation=0.2)\n",
    "    sns.despine()\n",
    "    plt.title(\"Churn vs \" + num )\n",
    "    plt.ylabel(num)\n",
    "    plt.xlabel('Churn')\n",
    "#     plt.tight_layout()\n",
    "\n",
    "num_col = ['montant', 'frequence_rech', 'revenue','arpu_segment', 'frequence', 'data_volume', 'on_net', 'orange', 'tigo',\n",
    "           'freq_top_pack', 'regularity', 'off_net', 'call_volume']\n",
    "for i in num_col:\n",
    "    bar_plot('churn', i, train)\n",
    "\n",
    "# plt.figure()\n",
    "# sns.barplot(x='churn', y ='montant', data= train, color ='grey', saturation=0.2)"
   ]
  },
  {
   "cell_type": "code",
   "execution_count": 127,
   "metadata": {},
   "outputs": [
    {
     "data": {
      "text/html": [
       "<div>\n",
       "<style>\n",
       "    .dataframe thead tr:only-child th {\n",
       "        text-align: right;\n",
       "    }\n",
       "\n",
       "    .dataframe thead th {\n",
       "        text-align: left;\n",
       "    }\n",
       "\n",
       "    .dataframe tbody tr th {\n",
       "        vertical-align: top;\n",
       "    }\n",
       "</style>\n",
       "<table border=\"1\" class=\"dataframe\">\n",
       "  <thead>\n",
       "    <tr style=\"text-align: right;\">\n",
       "      <th></th>\n",
       "      <th>montant</th>\n",
       "      <th>frequence_rech</th>\n",
       "      <th>revenue</th>\n",
       "      <th>arpu_segment</th>\n",
       "      <th>frequence</th>\n",
       "      <th>data_volume</th>\n",
       "      <th>on_net</th>\n",
       "      <th>orange</th>\n",
       "      <th>tigo</th>\n",
       "      <th>regularity</th>\n",
       "      <th>freq_top_pack</th>\n",
       "      <th>churn</th>\n",
       "      <th>off_net</th>\n",
       "      <th>call_volume</th>\n",
       "    </tr>\n",
       "  </thead>\n",
       "  <tbody>\n",
       "    <tr>\n",
       "      <th>montant</th>\n",
       "      <td>1.000000</td>\n",
       "      <td>0.808448</td>\n",
       "      <td>0.974696</td>\n",
       "      <td>0.974696</td>\n",
       "      <td>0.787252</td>\n",
       "      <td>0.275872</td>\n",
       "      <td>0.356312</td>\n",
       "      <td>0.672003</td>\n",
       "      <td>0.437056</td>\n",
       "      <td>0.493203</td>\n",
       "      <td>0.744960</td>\n",
       "      <td>-0.145367</td>\n",
       "      <td>0.690880</td>\n",
       "      <td>0.487148</td>\n",
       "    </tr>\n",
       "    <tr>\n",
       "      <th>frequence_rech</th>\n",
       "      <td>0.808448</td>\n",
       "      <td>1.000000</td>\n",
       "      <td>0.812319</td>\n",
       "      <td>0.812319</td>\n",
       "      <td>0.952118</td>\n",
       "      <td>0.176732</td>\n",
       "      <td>0.425780</td>\n",
       "      <td>0.539957</td>\n",
       "      <td>0.363874</td>\n",
       "      <td>0.510911</td>\n",
       "      <td>0.864174</td>\n",
       "      <td>-0.148603</td>\n",
       "      <td>0.557981</td>\n",
       "      <td>0.519407</td>\n",
       "    </tr>\n",
       "    <tr>\n",
       "      <th>revenue</th>\n",
       "      <td>0.974696</td>\n",
       "      <td>0.812319</td>\n",
       "      <td>1.000000</td>\n",
       "      <td>1.000000</td>\n",
       "      <td>0.799557</td>\n",
       "      <td>0.284724</td>\n",
       "      <td>0.359752</td>\n",
       "      <td>0.676157</td>\n",
       "      <td>0.436096</td>\n",
       "      <td>0.501339</td>\n",
       "      <td>0.756084</td>\n",
       "      <td>-0.148293</td>\n",
       "      <td>0.694326</td>\n",
       "      <td>0.491095</td>\n",
       "    </tr>\n",
       "    <tr>\n",
       "      <th>arpu_segment</th>\n",
       "      <td>0.974696</td>\n",
       "      <td>0.812319</td>\n",
       "      <td>1.000000</td>\n",
       "      <td>1.000000</td>\n",
       "      <td>0.799556</td>\n",
       "      <td>0.284724</td>\n",
       "      <td>0.359752</td>\n",
       "      <td>0.676157</td>\n",
       "      <td>0.436096</td>\n",
       "      <td>0.501338</td>\n",
       "      <td>0.756083</td>\n",
       "      <td>-0.148293</td>\n",
       "      <td>0.694326</td>\n",
       "      <td>0.491096</td>\n",
       "    </tr>\n",
       "    <tr>\n",
       "      <th>frequence</th>\n",
       "      <td>0.787252</td>\n",
       "      <td>0.952118</td>\n",
       "      <td>0.799557</td>\n",
       "      <td>0.799556</td>\n",
       "      <td>1.000000</td>\n",
       "      <td>0.192942</td>\n",
       "      <td>0.415416</td>\n",
       "      <td>0.496440</td>\n",
       "      <td>0.331198</td>\n",
       "      <td>0.537958</td>\n",
       "      <td>0.835913</td>\n",
       "      <td>-0.156751</td>\n",
       "      <td>0.512258</td>\n",
       "      <td>0.499231</td>\n",
       "    </tr>\n",
       "    <tr>\n",
       "      <th>data_volume</th>\n",
       "      <td>0.275872</td>\n",
       "      <td>0.176732</td>\n",
       "      <td>0.284724</td>\n",
       "      <td>0.284724</td>\n",
       "      <td>0.192942</td>\n",
       "      <td>1.000000</td>\n",
       "      <td>0.008351</td>\n",
       "      <td>0.058539</td>\n",
       "      <td>0.036562</td>\n",
       "      <td>0.203505</td>\n",
       "      <td>0.140637</td>\n",
       "      <td>-0.068731</td>\n",
       "      <td>0.059844</td>\n",
       "      <td>0.021648</td>\n",
       "    </tr>\n",
       "    <tr>\n",
       "      <th>on_net</th>\n",
       "      <td>0.356312</td>\n",
       "      <td>0.425780</td>\n",
       "      <td>0.359752</td>\n",
       "      <td>0.359752</td>\n",
       "      <td>0.415416</td>\n",
       "      <td>0.008351</td>\n",
       "      <td>1.000000</td>\n",
       "      <td>0.253662</td>\n",
       "      <td>0.168969</td>\n",
       "      <td>0.289740</td>\n",
       "      <td>0.380560</td>\n",
       "      <td>-0.103455</td>\n",
       "      <td>0.261686</td>\n",
       "      <td>0.974079</td>\n",
       "    </tr>\n",
       "    <tr>\n",
       "      <th>orange</th>\n",
       "      <td>0.672003</td>\n",
       "      <td>0.539957</td>\n",
       "      <td>0.676157</td>\n",
       "      <td>0.676157</td>\n",
       "      <td>0.496440</td>\n",
       "      <td>0.058539</td>\n",
       "      <td>0.253662</td>\n",
       "      <td>1.000000</td>\n",
       "      <td>0.433193</td>\n",
       "      <td>0.330834</td>\n",
       "      <td>0.574031</td>\n",
       "      <td>-0.116828</td>\n",
       "      <td>0.979213</td>\n",
       "      <td>0.461033</td>\n",
       "    </tr>\n",
       "    <tr>\n",
       "      <th>tigo</th>\n",
       "      <td>0.437056</td>\n",
       "      <td>0.363874</td>\n",
       "      <td>0.436096</td>\n",
       "      <td>0.436096</td>\n",
       "      <td>0.331198</td>\n",
       "      <td>0.036562</td>\n",
       "      <td>0.168969</td>\n",
       "      <td>0.433193</td>\n",
       "      <td>1.000000</td>\n",
       "      <td>0.215773</td>\n",
       "      <td>0.385078</td>\n",
       "      <td>-0.077468</td>\n",
       "      <td>0.607002</td>\n",
       "      <td>0.296492</td>\n",
       "    </tr>\n",
       "    <tr>\n",
       "      <th>regularity</th>\n",
       "      <td>0.493203</td>\n",
       "      <td>0.510911</td>\n",
       "      <td>0.501339</td>\n",
       "      <td>0.501338</td>\n",
       "      <td>0.537958</td>\n",
       "      <td>0.203505</td>\n",
       "      <td>0.289740</td>\n",
       "      <td>0.330834</td>\n",
       "      <td>0.215773</td>\n",
       "      <td>1.000000</td>\n",
       "      <td>0.422553</td>\n",
       "      <td>-0.479120</td>\n",
       "      <td>0.340263</td>\n",
       "      <td>0.344208</td>\n",
       "    </tr>\n",
       "    <tr>\n",
       "      <th>freq_top_pack</th>\n",
       "      <td>0.744960</td>\n",
       "      <td>0.864174</td>\n",
       "      <td>0.756084</td>\n",
       "      <td>0.756083</td>\n",
       "      <td>0.835913</td>\n",
       "      <td>0.140637</td>\n",
       "      <td>0.380560</td>\n",
       "      <td>0.574031</td>\n",
       "      <td>0.385078</td>\n",
       "      <td>0.422553</td>\n",
       "      <td>1.000000</td>\n",
       "      <td>-0.128909</td>\n",
       "      <td>0.592798</td>\n",
       "      <td>0.486292</td>\n",
       "    </tr>\n",
       "    <tr>\n",
       "      <th>churn</th>\n",
       "      <td>-0.145367</td>\n",
       "      <td>-0.148603</td>\n",
       "      <td>-0.148293</td>\n",
       "      <td>-0.148293</td>\n",
       "      <td>-0.156751</td>\n",
       "      <td>-0.068731</td>\n",
       "      <td>-0.103455</td>\n",
       "      <td>-0.116828</td>\n",
       "      <td>-0.077468</td>\n",
       "      <td>-0.479120</td>\n",
       "      <td>-0.128909</td>\n",
       "      <td>1.000000</td>\n",
       "      <td>-0.120444</td>\n",
       "      <td>-0.122657</td>\n",
       "    </tr>\n",
       "    <tr>\n",
       "      <th>off_net</th>\n",
       "      <td>0.690880</td>\n",
       "      <td>0.557981</td>\n",
       "      <td>0.694326</td>\n",
       "      <td>0.694326</td>\n",
       "      <td>0.512258</td>\n",
       "      <td>0.059844</td>\n",
       "      <td>0.261686</td>\n",
       "      <td>0.979213</td>\n",
       "      <td>0.607002</td>\n",
       "      <td>0.340263</td>\n",
       "      <td>0.592798</td>\n",
       "      <td>-0.120444</td>\n",
       "      <td>1.000000</td>\n",
       "      <td>0.473228</td>\n",
       "    </tr>\n",
       "    <tr>\n",
       "      <th>call_volume</th>\n",
       "      <td>0.487148</td>\n",
       "      <td>0.519407</td>\n",
       "      <td>0.491095</td>\n",
       "      <td>0.491096</td>\n",
       "      <td>0.499231</td>\n",
       "      <td>0.021648</td>\n",
       "      <td>0.974079</td>\n",
       "      <td>0.461033</td>\n",
       "      <td>0.296492</td>\n",
       "      <td>0.344208</td>\n",
       "      <td>0.486292</td>\n",
       "      <td>-0.122657</td>\n",
       "      <td>0.473228</td>\n",
       "      <td>1.000000</td>\n",
       "    </tr>\n",
       "  </tbody>\n",
       "</table>\n",
       "</div>"
      ],
      "text/plain": [
       "                 montant  frequence_rech   revenue  arpu_segment  frequence  \\\n",
       "montant         1.000000        0.808448  0.974696      0.974696   0.787252   \n",
       "frequence_rech  0.808448        1.000000  0.812319      0.812319   0.952118   \n",
       "revenue         0.974696        0.812319  1.000000      1.000000   0.799557   \n",
       "arpu_segment    0.974696        0.812319  1.000000      1.000000   0.799556   \n",
       "frequence       0.787252        0.952118  0.799557      0.799556   1.000000   \n",
       "data_volume     0.275872        0.176732  0.284724      0.284724   0.192942   \n",
       "on_net          0.356312        0.425780  0.359752      0.359752   0.415416   \n",
       "orange          0.672003        0.539957  0.676157      0.676157   0.496440   \n",
       "tigo            0.437056        0.363874  0.436096      0.436096   0.331198   \n",
       "regularity      0.493203        0.510911  0.501339      0.501338   0.537958   \n",
       "freq_top_pack   0.744960        0.864174  0.756084      0.756083   0.835913   \n",
       "churn          -0.145367       -0.148603 -0.148293     -0.148293  -0.156751   \n",
       "off_net         0.690880        0.557981  0.694326      0.694326   0.512258   \n",
       "call_volume     0.487148        0.519407  0.491095      0.491096   0.499231   \n",
       "\n",
       "                data_volume    on_net    orange      tigo  regularity  \\\n",
       "montant            0.275872  0.356312  0.672003  0.437056    0.493203   \n",
       "frequence_rech     0.176732  0.425780  0.539957  0.363874    0.510911   \n",
       "revenue            0.284724  0.359752  0.676157  0.436096    0.501339   \n",
       "arpu_segment       0.284724  0.359752  0.676157  0.436096    0.501338   \n",
       "frequence          0.192942  0.415416  0.496440  0.331198    0.537958   \n",
       "data_volume        1.000000  0.008351  0.058539  0.036562    0.203505   \n",
       "on_net             0.008351  1.000000  0.253662  0.168969    0.289740   \n",
       "orange             0.058539  0.253662  1.000000  0.433193    0.330834   \n",
       "tigo               0.036562  0.168969  0.433193  1.000000    0.215773   \n",
       "regularity         0.203505  0.289740  0.330834  0.215773    1.000000   \n",
       "freq_top_pack      0.140637  0.380560  0.574031  0.385078    0.422553   \n",
       "churn             -0.068731 -0.103455 -0.116828 -0.077468   -0.479120   \n",
       "off_net            0.059844  0.261686  0.979213  0.607002    0.340263   \n",
       "call_volume        0.021648  0.974079  0.461033  0.296492    0.344208   \n",
       "\n",
       "                freq_top_pack     churn   off_net  call_volume  \n",
       "montant              0.744960 -0.145367  0.690880     0.487148  \n",
       "frequence_rech       0.864174 -0.148603  0.557981     0.519407  \n",
       "revenue              0.756084 -0.148293  0.694326     0.491095  \n",
       "arpu_segment         0.756083 -0.148293  0.694326     0.491096  \n",
       "frequence            0.835913 -0.156751  0.512258     0.499231  \n",
       "data_volume          0.140637 -0.068731  0.059844     0.021648  \n",
       "on_net               0.380560 -0.103455  0.261686     0.974079  \n",
       "orange               0.574031 -0.116828  0.979213     0.461033  \n",
       "tigo                 0.385078 -0.077468  0.607002     0.296492  \n",
       "regularity           0.422553 -0.479120  0.340263     0.344208  \n",
       "freq_top_pack        1.000000 -0.128909  0.592798     0.486292  \n",
       "churn               -0.128909  1.000000 -0.120444    -0.122657  \n",
       "off_net              0.592798 -0.120444  1.000000     0.473228  \n",
       "call_volume          0.486292 -0.122657  0.473228     1.000000  "
      ]
     },
     "execution_count": 127,
     "metadata": {},
     "output_type": "execute_result"
    }
   ],
   "source": [
    "# sns.heatmap(train.corr())\n",
    "train.corr()"
   ]
  },
  {
   "cell_type": "markdown",
   "metadata": {},
   "source": [
    " - We see that revenue and arpu segment are totally correlated and have same correlation with others. we drop arpusegment\n",
    " - Likewise, montant and revenue are highly collinear, could they represent the samme thing? The top up amount should actually be same as the monthly income of the customer. These are redundant information and will be removed. We remove one of them.\n",
    " \n",
    " - We drop orange, tigo since they are now being represented by off_net\n",
    " \n",
    "\n",
    "\n",
    "    "
   ]
  },
  {
   "cell_type": "code",
   "execution_count": 203,
   "metadata": {},
   "outputs": [],
   "source": [
    "train.drop('arpu_segment', axis=1, inplace=True)\n",
    "test.drop('arpu_segment', axis=1, inplace=True)"
   ]
  },
  {
   "cell_type": "code",
   "execution_count": null,
   "metadata": {
    "collapsed": true
   },
   "outputs": [],
   "source": []
  },
  {
   "cell_type": "markdown",
   "metadata": {},
   "source": [
    "##### Visualising class separation by categorical features"
   ]
  },
  {
   "cell_type": "code",
   "execution_count": null,
   "metadata": {},
   "outputs": [],
   "source": [
    "cat_colss = ['region', 'top_pack']\n",
    "\n",
    "plt.figure(figsize = (18,15))\n",
    "sns.factorplot(x = 'region', col ='churn', kind ='count', data =train)\n",
    "sns.factorplot(x = 'top_pack', col ='churn', kind ='count', data =train)\n",
    "\n",
    "\n",
    "# train['dummy'] = np.ones(shape = train.shape[0])\n",
    "# for col in cat_colss:\n",
    "#     print(col)\n",
    "#     counts = train[['dummy', 'churn', col]].groupby(['churn', col], as_index = False).count()\n",
    "# #     print(counts)\n",
    "# #     temp = counts[counts['churn'] == 0][[col, 'dummy']]\n",
    "# #     print(temp)\n",
    "#     plt.figure(figsize = (10,4))\n",
    "#     plt.subplot(1, 2, 1)\n",
    "#     temp = counts[counts['churn'] == 0][[col, 'dummy']]\n",
    "#     print(temp)\n",
    "# #     plt.bar(temp[col], temp.dummy)\n",
    "# #     plt.xticks(rotation=90)\n",
    "# #     plt.title('Counts for ' + col + '\\n churn-not')\n",
    "# #     plt.ylabel('count')\n",
    "# #     plt.subplot(1, 2, 2)\n",
    "# #     temp = counts[counts['bad_credit'] == 1][[col, 'dummy']]\n",
    "# #     plt.bar(temp[col], temp.dummy)\n",
    "# #     plt.xticks(rotation=90)\n",
    "# #     plt.title('Counts for ' + col + '\\n churn-yes')\n",
    "# #     plt.ylabel('count')\n",
    "# #     plt.show()"
   ]
  },
  {
   "cell_type": "markdown",
   "metadata": {},
   "source": [
    "##### Visualising class separation by numeric features"
   ]
  },
  {
   "cell_type": "code",
   "execution_count": 204,
   "metadata": {
    "scrolled": false
   },
   "outputs": [
    {
     "data": {
      "image/png": "[encoded data removed]",
      "text/plain": [
       "<matplotlib.figure.Figure at 0x24a0396fba8>"
      ]
     },
     "metadata": {},
     "output_type": "display_data"
    },
    {
     "data": {
      "image/png": "[encoded data removed]",
      "text/plain": [
       "<matplotlib.figure.Figure at 0x24a00787a90>"
      ]
     },
     "metadata": {},
     "output_type": "display_data"
    },
    {
     "data": {
      "image/png": "[encoded data removed]",
      "text/plain": [
       "<matplotlib.figure.Figure at 0x24a009d8710>"
      ]
     },
     "metadata": {},
     "output_type": "display_data"
    },
    {
     "data": {
      "image/png": "[encoded data removed]",
      "text/plain": [
       "<matplotlib.figure.Figure at 0x24a041e0c50>"
      ]
     },
     "metadata": {},
     "output_type": "display_data"
    },
    {
     "data": {
      "image/png": "[encoded data removed]",
      "text/plain": [
       "<matplotlib.figure.Figure at 0x24a045c4390>"
      ]
     },
     "metadata": {},
     "output_type": "display_data"
    },
    {
     "data": {
      "image/png": "[encoded data removed]",
      "text/plain": [
       "<matplotlib.figure.Figure at 0x24a04530d68>"
      ]
     },
     "metadata": {},
     "output_type": "display_data"
    },
    {
     "data": {
      "image/png": "[encoded data removed]",
      "text/plain": [
       "<matplotlib.figure.Figure at 0x24a045dde48>"
      ]
     },
     "metadata": {},
     "output_type": "display_data"
    },
    {
     "data": {
      "image/png": "[encoded data removed]",
      "text/plain": [
       "<matplotlib.figure.Figure at 0x24a26943080>"
      ]
     },
     "metadata": {},
     "output_type": "display_data"
    },
    {
     "data": {
      "image/png": "[encoded data removed]",
      "text/plain": [
       "<matplotlib.figure.Figure at 0x24a296e5f60>"
      ]
     },
     "metadata": {},
     "output_type": "display_data"
    },
    {
     "data": {
      "image/png": "[encoded data removed]",
      "text/plain": [
       "<matplotlib.figure.Figure at 0x24a08bcef98>"
      ]
     },
     "metadata": {},
     "output_type": "display_data"
    },
    {
     "data": {
      "image/png": "[encoded data removed]",
      "text/plain": [
       "<matplotlib.figure.Figure at 0x24a29d03a90>"
      ]
     },
     "metadata": {},
     "output_type": "display_data"
    },
    {
     "data": {
      "image/png": "[encoded data removed]",
      "text/plain": [
       "<matplotlib.figure.Figure at 0x24a29c43278>"
      ]
     },
     "metadata": {},
     "output_type": "display_data"
    }
   ],
   "source": [
    "def plot_box(train, cols, col_x = 'churn'):\n",
    "    for col in cols:\n",
    "        plt.figure(figsize=(12,10))\n",
    "        sns.set_style(\"whitegrid\")\n",
    "        sns.boxplot(col_x, col, data=train)\n",
    "        plt.xlabel(col_x) # Set text for the x axis\n",
    "        plt.ylabel(col)# Set text for y axis\n",
    "        plt.show()\n",
    "\n",
    "num_cols = ['montant', 'frequence_rech', 'revenue', 'frequence', 'data_volume', 'on_net', 'orange', 'tigo',\n",
    "           'freq_top_pack', 'regularity', 'off_net', 'call_volume']\n",
    "\n",
    "plot_box(train, num_cols)"
   ]
  },
  {
   "cell_type": "code",
   "execution_count": 130,
   "metadata": {},
   "outputs": [],
   "source": [
    "# Scatter Matrix\n",
    "\n",
    "# from pandas.tools.plotting import scatter_matrix\n",
    "# scatter_matrix(train['data_volume', 'call_volume']"
   ]
  },
  {
   "cell_type": "code",
   "execution_count": 206,
   "metadata": {},
   "outputs": [
    {
     "name": "stdout",
     "output_type": "stream",
     "text": [
      "montant 4.98127725694\n",
      "frequence_rech 2.89441208778\n",
      "revenue 4.66151028155\n",
      "frequence 2.45170430989\n",
      "data_volume 37.6440648168\n",
      "on_net 10.594454467\n",
      "orange 9.34732852753\n",
      "tigo 17.7914542942\n",
      "freq_top_pack 5.65074021516\n",
      "regularity 0.247978076312\n",
      "off_net 8.90630114815\n",
      "call_volume 9.11410735852\n"
     ]
    }
   ],
   "source": [
    "# To find the skew of the distributions\n",
    "for cols in num_cols:\n",
    "    skeww = train[cols].skew()\n",
    "    print(cols, skeww)\n",
    "    "
   ]
  },
  {
   "cell_type": "code",
   "execution_count": null,
   "metadata": {
    "collapsed": true
   },
   "outputs": [],
   "source": []
  },
  {
   "cell_type": "code",
   "execution_count": 208,
   "metadata": {
    "scrolled": false
   },
   "outputs": [
    {
     "data": {
      "image/png": "[encoded data removed]",
      "text/plain": [
       "<matplotlib.figure.Figure at 0x24a2948d4e0>"
      ]
     },
     "metadata": {},
     "output_type": "display_data"
    },
    {
     "data": {
      "image/png": "[encoded data removed]",
      "text/plain": [
       "<matplotlib.figure.Figure at 0x24a295847f0>"
      ]
     },
     "metadata": {},
     "output_type": "display_data"
    },
    {
     "data": {
      "image/png": "[encoded data removed]",
      "text/plain": [
       "<matplotlib.figure.Figure at 0x24a29ac9b38>"
      ]
     },
     "metadata": {},
     "output_type": "display_data"
    },
    {
     "data": {
      "image/png": "[encoded data removed]",
      "text/plain": [
       "<matplotlib.figure.Figure at 0x24a29688390>"
      ]
     },
     "metadata": {},
     "output_type": "display_data"
    },
    {
     "data": {
      "image/png": "[encoded data removed]",
      "text/plain": [
       "<matplotlib.figure.Figure at 0x24a29543c18>"
      ]
     },
     "metadata": {},
     "output_type": "display_data"
    },
    {
     "data": {
      "image/png": "[encoded data removed]",
      "text/plain": [
       "<matplotlib.figure.Figure at 0x24a2639e0f0>"
      ]
     },
     "metadata": {},
     "output_type": "display_data"
    },
    {
     "data": {
      "image/png": "[encoded data removed]",
      "text/plain": [
       "<matplotlib.figure.Figure at 0x24a268e3a90>"
      ]
     },
     "metadata": {},
     "output_type": "display_data"
    },
    {
     "data": {
      "image/png": "[encoded data removed]",
      "text/plain": [
       "<matplotlib.figure.Figure at 0x24a00872198>"
      ]
     },
     "metadata": {},
     "output_type": "display_data"
    },
    {
     "data": {
      "image/png": "[encoded data removed]",
      "text/plain": [
       "<matplotlib.figure.Figure at 0x24a008733c8>"
      ]
     },
     "metadata": {},
     "output_type": "display_data"
    },
    {
     "data": {
      "image/png": "[encoded data removed]",
      "text/plain": [
       "<matplotlib.figure.Figure at 0x24a00a67860>"
      ]
     },
     "metadata": {},
     "output_type": "display_data"
    },
    {
     "data": {
      "image/png": "[encoded data removed]",
      "text/plain": [
       "<matplotlib.figure.Figure at 0x24a045ede80>"
      ]
     },
     "metadata": {},
     "output_type": "display_data"
    },
    {
     "data": {
      "image/png": "[encoded data removed]",
      "text/plain": [
       "<matplotlib.figure.Figure at 0x24a00005ac8>"
      ]
     },
     "metadata": {},
     "output_type": "display_data"
    }
   ],
   "source": [
    "# Distribution plot for numeric variables\n",
    "\n",
    "def dist_plot(numerical):\n",
    "    plt.figure()\n",
    "    sns.distplot(train[numerical])\n",
    "    plt.title(\"Distribution of \" + numerical)\n",
    "    plt.ylabel(\"Frequency\")\n",
    "    plt.xlabel(numerical)\n",
    "#     plt.tight_layout()\n",
    "    plt.show()\n",
    "\n",
    "for i in num_cols:\n",
    "    dist_plot(i)"
   ]
  },
  {
   "cell_type": "code",
   "execution_count": null,
   "metadata": {
    "collapsed": true
   },
   "outputs": [],
   "source": [
    " - Regularity is bimidal. How do we treat it/"
   ]
  },
  {
   "cell_type": "code",
   "execution_count": null,
   "metadata": {},
   "outputs": [],
   "source": [
    "train.describe()"
   ]
  },
  {
   "cell_type": "markdown",
   "metadata": {},
   "source": [
    "#### Numeric Data Transformation\n",
    " - Here we use log and boxcox transform for the numeric variables that have shown a high percentage of skewness. "
   ]
  },
  {
   "cell_type": "code",
   "execution_count": 209,
   "metadata": {},
   "outputs": [
    {
     "name": "stdout",
     "output_type": "stream",
     "text": [
      "montant -0.48194626885\n",
      "frequence_rech -0.17262263372\n",
      "revenue -1.66678766331\n",
      "frequence -0.420715193656\n",
      "freq_top_pack 0.218634593065\n"
     ]
    }
   ],
   "source": [
    "skewed_col = ['montant', 'frequence_rech', 'revenue', 'frequence', 'data_volume', 'on_net', 'orange', 'tigo',\n",
    "           'freq_top_pack', 'off_net', 'call_volume']\n",
    "\n",
    "skewed_col_no_zero = ['montant', 'frequence_rech', 'revenue', 'frequence', 'freq_top_pack']\n",
    "skewed_col_zero = ['data_volume', 'on_net', 'orange', 'tigo', 'off_net', 'call_volume']\n",
    "\n",
    "# to define and apply a log transform function\n",
    "\n",
    "def log_transform(skewed):\n",
    "    train[skewed] = np.log(train[skewed])\n",
    "    skeww = train[skewed].skew()\n",
    "    print(skewed, skeww)\n",
    "\n",
    "for i in skewed_col_no_zero:\n",
    "    log_transform(i)"
   ]
  },
  {
   "cell_type": "code",
   "execution_count": 211,
   "metadata": {
    "scrolled": false
   },
   "outputs": [
    {
     "data": {
      "image/png": "[encoded data removed]",
      "text/plain": [
       "<matplotlib.figure.Figure at 0x24a2676f2e8>"
      ]
     },
     "metadata": {},
     "output_type": "display_data"
    },
    {
     "data": {
      "image/png": "[encoded data removed]",
      "text/plain": [
       "<matplotlib.figure.Figure at 0x24a040d9860>"
      ]
     },
     "metadata": {},
     "output_type": "display_data"
    },
    {
     "data": {
      "image/png": "[encoded data removed]",
      "text/plain": [
       "<matplotlib.figure.Figure at 0x24a262ffd68>"
      ]
     },
     "metadata": {},
     "output_type": "display_data"
    },
    {
     "data": {
      "image/png": "[encoded data removed]",
      "text/plain": [
       "<matplotlib.figure.Figure at 0x24a10f839e8>"
      ]
     },
     "metadata": {},
     "output_type": "display_data"
    },
    {
     "data": {
      "image/png": "[encoded data removed]",
      "text/plain": [
       "<matplotlib.figure.Figure at 0x24a041bcc50>"
      ]
     },
     "metadata": {},
     "output_type": "display_data"
    },
    {
     "data": {
      "image/png": "[encoded data removed]",
      "text/plain": [
       "<matplotlib.figure.Figure at 0x24a04bff9b0>"
      ]
     },
     "metadata": {},
     "output_type": "display_data"
    },
    {
     "data": {
      "image/png": "[encoded data removed]",
      "text/plain": [
       "<matplotlib.figure.Figure at 0x24a00bd0ba8>"
      ]
     },
     "metadata": {},
     "output_type": "display_data"
    },
    {
     "data": {
      "image/png": "[encoded data removed]",
      "text/plain": [
       "<matplotlib.figure.Figure at 0x24a00c8bcc0>"
      ]
     },
     "metadata": {},
     "output_type": "display_data"
    },
    {
     "data": {
      "image/png": "[encoded data removed]",
      "text/plain": [
       "<matplotlib.figure.Figure at 0x24a00c58e10>"
      ]
     },
     "metadata": {},
     "output_type": "display_data"
    },
    {
     "data": {
      "image/png": "[encoded data removed]",
      "text/plain": [
       "<matplotlib.figure.Figure at 0x24a00b90470>"
      ]
     },
     "metadata": {},
     "output_type": "display_data"
    },
    {
     "data": {
      "image/png": "[encoded data removed]",
      "text/plain": [
       "<matplotlib.figure.Figure at 0x24a00bd0cf8>"
      ]
     },
     "metadata": {},
     "output_type": "display_data"
    },
    {
     "data": {
      "image/png": "[encoded data removed]",
      "text/plain": [
       "<matplotlib.figure.Figure at 0x24a2636a630>"
      ]
     },
     "metadata": {},
     "output_type": "display_data"
    }
   ],
   "source": [
    "# plot to visualise and confirm the log transform\n",
    "\n",
    "def dist_plot(numerical):\n",
    "    plt.figure()\n",
    "    sns.distplot(train[numerical], hist = False, kde_kws={'shade': True, 'linewidth':2},\n",
    "                color ='green')\n",
    "    plt.title(\"Distribution of \" + numerical)\n",
    "    plt.ylabel(\"Frequency\")\n",
    "    plt.xlabel(numerical)\n",
    "#     plt.tight_layout()\n",
    "    plt.show()\n",
    "\n",
    "num_col = ['montant', 'frequence_rech', 'revenue', 'frequence', 'data_volume', 'on_net', 'orange', 'tigo',\n",
    "           'freq_top_pack', 'regularity', 'off_net', 'call_volume']\n",
    "for i in num_col:\n",
    "    dist_plot(i)"
   ]
  },
  {
   "cell_type": "markdown",
   "metadata": {},
   "source": [
    " - We shall use a box Cox transformation for the rest of the variables"
   ]
  },
  {
   "cell_type": "code",
   "execution_count": 216,
   "metadata": {},
   "outputs": [
    {
     "ename": "ValueError",
     "evalue": "Data must be positive.",
     "output_type": "error",
     "traceback": [
      "\u001b[1;31m---------------------------------------------------------------------------\u001b[0m",
      "\u001b[1;31mValueError\u001b[0m                                Traceback (most recent call last)",
      "\u001b[1;32m<ipython-input-216-a7cc3396c658>\u001b[0m in \u001b[0;36m<module>\u001b[1;34m()\u001b[0m\n\u001b[0;32m      9\u001b[0m \u001b[1;33m\u001b[0m\u001b[0m\n\u001b[0;32m     10\u001b[0m \u001b[1;32mfor\u001b[0m \u001b[0mi\u001b[0m \u001b[1;32min\u001b[0m \u001b[0mskewed_col_zero\u001b[0m\u001b[1;33m:\u001b[0m\u001b[1;33m\u001b[0m\u001b[0m\n\u001b[1;32m---> 11\u001b[1;33m     \u001b[0mboxcox_transform\u001b[0m\u001b[1;33m(\u001b[0m\u001b[0mi\u001b[0m\u001b[1;33m)\u001b[0m\u001b[1;33m\u001b[0m\u001b[0m\n\u001b[0m",
      "\u001b[1;32m<ipython-input-216-a7cc3396c658>\u001b[0m in \u001b[0;36mboxcox_transform\u001b[1;34m(skewed)\u001b[0m\n\u001b[0;32m      4\u001b[0m \u001b[1;33m\u001b[0m\u001b[0m\n\u001b[0;32m      5\u001b[0m \u001b[1;32mdef\u001b[0m \u001b[0mboxcox_transform\u001b[0m\u001b[1;33m(\u001b[0m\u001b[0mskewed\u001b[0m\u001b[1;33m)\u001b[0m\u001b[1;33m:\u001b[0m\u001b[1;33m\u001b[0m\u001b[0m\n\u001b[1;32m----> 6\u001b[1;33m     \u001b[0mtrain\u001b[0m\u001b[1;33m[\u001b[0m\u001b[0mskewed\u001b[0m\u001b[1;33m]\u001b[0m \u001b[1;33m=\u001b[0m \u001b[0mstats\u001b[0m\u001b[1;33m.\u001b[0m\u001b[0mboxcox\u001b[0m\u001b[1;33m(\u001b[0m\u001b[0mtrain\u001b[0m\u001b[1;33m[\u001b[0m\u001b[0mskewed\u001b[0m\u001b[1;33m]\u001b[0m\u001b[1;33m)\u001b[0m\u001b[1;33m[\u001b[0m\u001b[1;36m0\u001b[0m\u001b[1;33m]\u001b[0m\u001b[1;33m\u001b[0m\u001b[0m\n\u001b[0m\u001b[0;32m      7\u001b[0m     \u001b[0mskeww\u001b[0m \u001b[1;33m=\u001b[0m \u001b[0mpd\u001b[0m\u001b[1;33m.\u001b[0m\u001b[0mSeries\u001b[0m\u001b[1;33m(\u001b[0m\u001b[0mtrain\u001b[0m\u001b[1;33m[\u001b[0m\u001b[0mskewed\u001b[0m\u001b[1;33m]\u001b[0m\u001b[1;33m)\u001b[0m\u001b[1;33m.\u001b[0m\u001b[0mskew\u001b[0m\u001b[1;33m(\u001b[0m\u001b[1;33m)\u001b[0m\u001b[1;33m\u001b[0m\u001b[0m\n\u001b[0;32m      8\u001b[0m     \u001b[0mprint\u001b[0m\u001b[1;33m(\u001b[0m\u001b[0mskewed\u001b[0m\u001b[1;33m,\u001b[0m \u001b[0mskeww\u001b[0m\u001b[1;33m)\u001b[0m\u001b[1;33m\u001b[0m\u001b[0m\n",
      "\u001b[1;32mC:\\Anaconda\\lib\\site-packages\\scipy\\stats\\morestats.py\u001b[0m in \u001b[0;36mboxcox\u001b[1;34m(x, lmbda, alpha)\u001b[0m\n\u001b[0;32m   1029\u001b[0m \u001b[1;33m\u001b[0m\u001b[0m\n\u001b[0;32m   1030\u001b[0m     \u001b[1;32mif\u001b[0m \u001b[0many\u001b[0m\u001b[1;33m(\u001b[0m\u001b[0mx\u001b[0m \u001b[1;33m<=\u001b[0m \u001b[1;36m0\u001b[0m\u001b[1;33m)\u001b[0m\u001b[1;33m:\u001b[0m\u001b[1;33m\u001b[0m\u001b[0m\n\u001b[1;32m-> 1031\u001b[1;33m         \u001b[1;32mraise\u001b[0m \u001b[0mValueError\u001b[0m\u001b[1;33m(\u001b[0m\u001b[1;34m\"Data must be positive.\"\u001b[0m\u001b[1;33m)\u001b[0m\u001b[1;33m\u001b[0m\u001b[0m\n\u001b[0m\u001b[0;32m   1032\u001b[0m \u001b[1;33m\u001b[0m\u001b[0m\n\u001b[0;32m   1033\u001b[0m     \u001b[1;32mif\u001b[0m \u001b[0mlmbda\u001b[0m \u001b[1;32mis\u001b[0m \u001b[1;32mnot\u001b[0m \u001b[1;32mNone\u001b[0m\u001b[1;33m:\u001b[0m  \u001b[1;31m# single transformation\u001b[0m\u001b[1;33m\u001b[0m\u001b[0m\n",
      "\u001b[1;31mValueError\u001b[0m: Data must be positive."
     ]
    }
   ],
   "source": [
    "skewed_col_zero = ['on_net', 'orange', 'tigo', 'off_net','data_volume', 'call_volume']\n",
    "\n",
    "# to define and apply a boxcox transform function\n",
    "\n",
    "def boxcox_transform(skewed):\n",
    "    train[skewed] = stats.boxcox(train[skewed])[0]\n",
    "    skeww = pd.Series(train[skewed]).skew()\n",
    "    print(skewed, skeww)\n",
    "\n",
    "for i in skewed_col_zero:\n",
    "    boxcox_transform(i)"
   ]
  },
  {
   "cell_type": "code",
   "execution_count": null,
   "metadata": {},
   "outputs": [],
   "source": [
    "def dist_plot(numerical):\n",
    "    plt.figure()\n",
    "    sns.distplot(train[numerical], hist = False, kde_kws={'shade': True, 'linewidth':2},\n",
    "                color ='green')\n",
    "    plt.title(\"Distribution of \" + numerical)\n",
    "    plt.ylabel(\"Frequency\")\n",
    "    plt.xlabel(numerical)\n",
    "#     plt.tight_layout()\n",
    "    plt.show()\n",
    "\n",
    "num_col = ['montant', 'frequence_rech', 'revenue','arpu_segment', 'frequence', 'data_volume', 'on_net', 'orange', 'tigo',\n",
    "           'freq_top_pack', 'regularity', 'off_net', 'call_volume']\n",
    "for i in num_col:\n",
    "    dist_plot(i)\n"
   ]
  },
  {
   "cell_type": "code",
   "execution_count": null,
   "metadata": {},
   "outputs": [],
   "source": [
    "sns.barplot('churn', y = 'regularity', data = train)"
   ]
  },
  {
   "cell_type": "code",
   "execution_count": null,
   "metadata": {
    "collapsed": true
   },
   "outputs": [],
   "source": [
    "plt.figure(figsize=(9,6))\n",
    "sns.barplot('tenure', y = 'regularity', hue = 'churn', palette=\"viridis_r\", data = train)"
   ]
  },
  {
   "cell_type": "code",
   "execution_count": null,
   "metadata": {
    "collapsed": true
   },
   "outputs": [],
   "source": [
    "plt.figure(figsize=(9,6))\n",
    "sns.barplot('tenure', y = 'regularity', hue = 'churn', palette=\"viridis_r\", data = train)"
   ]
  },
  {
   "cell_type": "code",
   "execution_count": 142,
   "metadata": {},
   "outputs": [
    {
     "data": {
      "text/plain": [
       "<matplotlib.axes._subplots.AxesSubplot at 0x24a060de860>"
      ]
     },
     "execution_count": 142,
     "metadata": {},
     "output_type": "execute_result"
    },
    {
     "data": {
      "image/png": "[encoded data removed]",
      "text/plain": [
       "<matplotlib.figure.Figure at 0x24a017584a8>"
      ]
     },
     "metadata": {},
     "output_type": "display_data"
    }
   ],
   "source": [
    "plt.figure(figsize=(18,5))\n",
    "sns.boxplot('region', y = 'regularity', hue = 'churn', palette=\"viridis_r\", data = train)"
   ]
  },
  {
   "cell_type": "code",
   "execution_count": 139,
   "metadata": {},
   "outputs": [
    {
     "data": {
      "text/plain": [
       "Unknown_region    0.393800\n",
       "DAKAR             0.238792\n",
       "THIES             0.083435\n",
       "SAINT-LOUIS       0.055313\n",
       "LOUGA             0.046282\n",
       "KAOLACK           0.045105\n",
       "DIOURBEL          0.031440\n",
       "TAMBACOUNDA       0.025683\n",
       "KAFFRINE          0.020452\n",
       "KOLDA             0.018010\n",
       "FATICK            0.016595\n",
       "MATAM             0.013137\n",
       "ZIGUINCHOR        0.010030\n",
       "SEDHIOU           0.001473\n",
       "KEDOUGOU          0.000452\n",
       "Name: region, dtype: float64"
      ]
     },
     "execution_count": 139,
     "metadata": {},
     "output_type": "execute_result"
    }
   ],
   "source": [
    "train['region'].value_counts()/400000"
   ]
  },
  {
   "cell_type": "code",
   "execution_count": null,
   "metadata": {},
   "outputs": [],
   "source": [
    "sns.factorplot(x='montant', y='revenue', data = train, kind='point')"
   ]
  },
  {
   "cell_type": "markdown",
   "metadata": {
    "collapsed": true
   },
   "source": [
    "### Prepare Data for Scikit-Learn Model"
   ]
  },
  {
   "cell_type": "code",
   "execution_count": null,
   "metadata": {},
   "outputs": [],
   "source": [
    "# 1.) To creates a numpy array of the label values\n",
    "labels = np.array(train['churn'])"
   ]
  },
  {
   "cell_type": "code",
   "execution_count": 144,
   "metadata": {},
   "outputs": [
    {
     "name": "stdout",
     "output_type": "stream",
     "text": [
      "<class 'pandas.core.frame.DataFrame'>\n",
      "RangeIndex: 400000 entries, 0 to 399999\n",
      "Data columns (total 17 columns):\n",
      "region            400000 non-null object\n",
      "tenure            400000 non-null object\n",
      "montant           400000 non-null float64\n",
      "frequence_rech    400000 non-null float64\n",
      "revenue           400000 non-null float64\n",
      "frequence         400000 non-null float64\n",
      "data_volume       400000 non-null float64\n",
      "on_net            400000 non-null float64\n",
      "orange            400000 non-null float64\n",
      "tigo              400000 non-null float64\n",
      "regularity        400000 non-null int64\n",
      "top_pack          400000 non-null object\n",
      "freq_top_pack     400000 non-null float64\n",
      "churn             400000 non-null int64\n",
      "off_net           400000 non-null float64\n",
      "call_volume       400000 non-null float64\n",
      "dummy             400000 non-null float64\n",
      "dtypes: float64(12), int64(2), object(3)\n",
      "memory usage: 51.9+ MB\n"
     ]
    }
   ],
   "source": [
    "train.info()"
   ]
  },
  {
   "cell_type": "code",
   "execution_count": null,
   "metadata": {
    "collapsed": true
   },
   "outputs": [],
   "source": [
    "train.drop('dummy', axis=1, inplace=True)"
   ]
  },
  {
   "cell_type": "code",
   "execution_count": null,
   "metadata": {},
   "outputs": [],
   "source": [
    "test.info()"
   ]
  },
  {
   "cell_type": "code",
   "execution_count": null,
   "metadata": {
    "collapsed": true
   },
   "outputs": [],
   "source": [
    "num_colss = ['montant', 'frequence_rech', 'revenue', 'frequence', 'data_volume', 'on_net', 'orange', 'tigo', \n",
    "             'regularity', 'freq_top_pack', 'off_net', 'call_volume' ]\n",
    "cat_features = ['region', 'top_pack', 'churn']"
   ]
  },
  {
   "cell_type": "code",
   "execution_count": 133,
   "metadata": {},
   "outputs": [
    {
     "name": "stdout",
     "output_type": "stream",
     "text": [
      "['SAINT-LOUIS' 'Unknown_region' 'TAMBACOUNDA' 'FATICK' 'THIES' 'LOUGA'\n",
      " 'DAKAR' 'KAFFRINE' 'DIOURBEL' 'KOLDA' 'MATAM' 'SEDHIOU' 'KAOLACK'\n",
      " 'ZIGUINCHOR' 'KEDOUGOU']\n",
      "[[ 0.  0.  0.  0.  0.  0.  0.  0.  0.  1.  0.  0.  0.  0.  0.  1.  0.  0.\n",
      "   0.  0.  1.  0.]\n",
      " [ 0.  0.  0.  0.  0.  0.  0.  0.  0.  0.  0.  0.  0.  1.  0.  0.  0.  1.\n",
      "   0.  0.  1.  0.]]\n",
      "(400000, 22)\n"
     ]
    }
   ],
   "source": [
    "def encode_string(cat_features):\n",
    "    #We first encode the strings to numeric variables\n",
    "    labelenc = preprocessing.LabelEncoder()\n",
    "    labelenc.fit(cat_features)\n",
    "    labelenc_cat_features = labelenc.transform(cat_features)\n",
    "    \n",
    "    #To apply one-hot encoding\n",
    "    ohe = preprocessing.OneHotEncoder()\n",
    "    encoded = ohe.fit(labelenc_cat_features.reshape(-1, 1)) \n",
    "    return encoded.transform(labelenc_cat_features.reshape(-1, 1)).toarray()\n",
    "\n",
    "cat_features = ['top_pack', 'churn']\n",
    "\n",
    "Features = encode_string(train['region'])\n",
    "\n",
    "print(train['region'].unique())\n",
    "for col in cat_features:\n",
    "    temp = encode_string(train[col])\n",
    "    Features = np.concatenate([Features, temp], axis = 1)\n",
    "    \n",
    "print(Features[:2, :])\n",
    "print(Features.shape)"
   ]
  },
  {
   "cell_type": "markdown",
   "metadata": {},
   "source": [
    "Next the numeric features will be concatenated to the numpy array by executing the code in the cell below"
   ]
  },
  {
   "cell_type": "code",
   "execution_count": 134,
   "metadata": {},
   "outputs": [
    {
     "name": "stdout",
     "output_type": "stream",
     "text": [
      "[[  0.00000000e+00   0.00000000e+00   0.00000000e+00   0.00000000e+00\n",
      "    0.00000000e+00   0.00000000e+00   0.00000000e+00   0.00000000e+00\n",
      "    0.00000000e+00   1.00000000e+00   0.00000000e+00   0.00000000e+00\n",
      "    0.00000000e+00   0.00000000e+00   0.00000000e+00   1.00000000e+00\n",
      "    0.00000000e+00   0.00000000e+00   0.00000000e+00   0.00000000e+00\n",
      "    1.00000000e+00   0.00000000e+00   1.70000000e+04   3.20000000e+01\n",
      "    1.80000000e+04   3.40000000e+01   2.68000000e+02   9.70000000e+01\n",
      "    3.55000000e+02   6.00000000e+00   6.20000000e+01   3.50000000e+01\n",
      "    3.61000000e+02   4.58000000e+02]\n",
      " [  0.00000000e+00   0.00000000e+00   0.00000000e+00   0.00000000e+00\n",
      "    0.00000000e+00   0.00000000e+00   0.00000000e+00   0.00000000e+00\n",
      "    0.00000000e+00   0.00000000e+00   0.00000000e+00   0.00000000e+00\n",
      "    0.00000000e+00   1.00000000e+00   0.00000000e+00   0.00000000e+00\n",
      "    0.00000000e+00   1.00000000e+00   0.00000000e+00   0.00000000e+00\n",
      "    1.00000000e+00   0.00000000e+00   4.30000000e+03   2.90000000e+01\n",
      "    4.42700000e+03   3.70000000e+01   1.76400000e+03   8.00000000e+00\n",
      "    3.00000000e+00   0.00000000e+00   4.00000000e+01   2.20000000e+01\n",
      "    3.00000000e+00   1.10000000e+01]]\n",
      "(400000, 34)\n"
     ]
    }
   ],
   "source": [
    "Features = np.concatenate([Features, np.array(train[['montant', 'frequence_rech', 'revenue', 'frequence', 'data_volume', 'on_net', 'orange', 'tigo', \n",
    "             'regularity', 'freq_top_pack', 'off_net', 'call_volume']])], axis = 1)\n",
    "print(Features[:2, :])\n",
    "print(Features.shape)"
   ]
  },
  {
   "cell_type": "markdown",
   "metadata": {},
   "source": [
    "### Split the dataset"
   ]
  },
  {
   "cell_type": "code",
   "execution_count": 135,
   "metadata": {
    "collapsed": true
   },
   "outputs": [],
   "source": [
    "X_train, X_val, y_train, y_val = ms.train_test_split(Features, labels, test_size = 0.20, \n",
    "                                                     random_state = 712, stratify = labels)"
   ]
  },
  {
   "cell_type": "code",
   "execution_count": 136,
   "metadata": {},
   "outputs": [
    {
     "data": {
      "text/html": [
       "<div>\n",
       "<style>\n",
       "    .dataframe thead tr:only-child th {\n",
       "        text-align: right;\n",
       "    }\n",
       "\n",
       "    .dataframe thead th {\n",
       "        text-align: left;\n",
       "    }\n",
       "\n",
       "    .dataframe tbody tr th {\n",
       "        vertical-align: top;\n",
       "    }\n",
       "</style>\n",
       "<table border=\"1\" class=\"dataframe\">\n",
       "  <thead>\n",
       "    <tr style=\"text-align: right;\">\n",
       "      <th></th>\n",
       "      <th>montant</th>\n",
       "      <th>frequence_rech</th>\n",
       "      <th>revenue</th>\n",
       "      <th>frequence</th>\n",
       "      <th>data_volume</th>\n",
       "      <th>on_net</th>\n",
       "      <th>orange</th>\n",
       "      <th>tigo</th>\n",
       "      <th>regularity</th>\n",
       "      <th>freq_top_pack</th>\n",
       "      <th>churn</th>\n",
       "      <th>off_net</th>\n",
       "      <th>call_volume</th>\n",
       "    </tr>\n",
       "  </thead>\n",
       "  <tbody>\n",
       "    <tr>\n",
       "      <th>count</th>\n",
       "      <td>400000.000000</td>\n",
       "      <td>400000.000000</td>\n",
       "      <td>400000.000000</td>\n",
       "      <td>400000.000000</td>\n",
       "      <td>400000.00000</td>\n",
       "      <td>400000.000000</td>\n",
       "      <td>400000.000000</td>\n",
       "      <td>400000.000000</td>\n",
       "      <td>400000.000000</td>\n",
       "      <td>400000.000000</td>\n",
       "      <td>400000.00000</td>\n",
       "      <td>400000.000000</td>\n",
       "      <td>400000.000000</td>\n",
       "    </tr>\n",
       "    <tr>\n",
       "      <th>mean</th>\n",
       "      <td>4638.184218</td>\n",
       "      <td>9.924307</td>\n",
       "      <td>4661.996512</td>\n",
       "      <td>12.284762</td>\n",
       "      <td>1843.27709</td>\n",
       "      <td>185.175302</td>\n",
       "      <td>67.453243</td>\n",
       "      <td>12.880145</td>\n",
       "      <td>28.046502</td>\n",
       "      <td>7.474577</td>\n",
       "      <td>0.18711</td>\n",
       "      <td>80.333388</td>\n",
       "      <td>265.508690</td>\n",
       "    </tr>\n",
       "    <tr>\n",
       "      <th>std</th>\n",
       "      <td>5846.168099</td>\n",
       "      <td>10.911098</td>\n",
       "      <td>5963.116995</td>\n",
       "      <td>12.183044</td>\n",
       "      <td>8888.92481</td>\n",
       "      <td>706.616942</td>\n",
       "      <td>159.985210</td>\n",
       "      <td>40.833450</td>\n",
       "      <td>22.282773</td>\n",
       "      <td>9.616928</td>\n",
       "      <td>0.39000</td>\n",
       "      <td>181.445622</td>\n",
       "      <td>774.165888</td>\n",
       "    </tr>\n",
       "    <tr>\n",
       "      <th>min</th>\n",
       "      <td>20.000000</td>\n",
       "      <td>1.000000</td>\n",
       "      <td>1.000000</td>\n",
       "      <td>1.000000</td>\n",
       "      <td>0.00000</td>\n",
       "      <td>0.000000</td>\n",
       "      <td>0.000000</td>\n",
       "      <td>0.000000</td>\n",
       "      <td>1.000000</td>\n",
       "      <td>1.000000</td>\n",
       "      <td>0.00000</td>\n",
       "      <td>0.000000</td>\n",
       "      <td>0.000000</td>\n",
       "    </tr>\n",
       "    <tr>\n",
       "      <th>25%</th>\n",
       "      <td>2000.000000</td>\n",
       "      <td>4.000000</td>\n",
       "      <td>1900.000000</td>\n",
       "      <td>6.000000</td>\n",
       "      <td>240.00000</td>\n",
       "      <td>12.000000</td>\n",
       "      <td>20.000000</td>\n",
       "      <td>6.000000</td>\n",
       "      <td>6.000000</td>\n",
       "      <td>4.000000</td>\n",
       "      <td>0.00000</td>\n",
       "      <td>27.000000</td>\n",
       "      <td>41.000000</td>\n",
       "    </tr>\n",
       "    <tr>\n",
       "      <th>50%</th>\n",
       "      <td>3000.000000</td>\n",
       "      <td>7.000000</td>\n",
       "      <td>3000.000000</td>\n",
       "      <td>9.000000</td>\n",
       "      <td>268.00000</td>\n",
       "      <td>27.000000</td>\n",
       "      <td>28.000000</td>\n",
       "      <td>6.000000</td>\n",
       "      <td>24.000000</td>\n",
       "      <td>5.000000</td>\n",
       "      <td>0.00000</td>\n",
       "      <td>34.000000</td>\n",
       "      <td>61.000000</td>\n",
       "    </tr>\n",
       "    <tr>\n",
       "      <th>75%</th>\n",
       "      <td>4600.000000</td>\n",
       "      <td>10.000000</td>\n",
       "      <td>4698.000000</td>\n",
       "      <td>13.000000</td>\n",
       "      <td>301.00000</td>\n",
       "      <td>55.000000</td>\n",
       "      <td>41.000000</td>\n",
       "      <td>6.000000</td>\n",
       "      <td>51.000000</td>\n",
       "      <td>6.000000</td>\n",
       "      <td>0.00000</td>\n",
       "      <td>51.000000</td>\n",
       "      <td>140.000000</td>\n",
       "    </tr>\n",
       "    <tr>\n",
       "      <th>max</th>\n",
       "      <td>226550.000000</td>\n",
       "      <td>133.000000</td>\n",
       "      <td>233413.000000</td>\n",
       "      <td>91.000000</td>\n",
       "      <td>934576.00000</td>\n",
       "      <td>45011.000000</td>\n",
       "      <td>6788.000000</td>\n",
       "      <td>2758.000000</td>\n",
       "      <td>62.000000</td>\n",
       "      <td>629.000000</td>\n",
       "      <td>1.00000</td>\n",
       "      <td>6794.000000</td>\n",
       "      <td>45048.000000</td>\n",
       "    </tr>\n",
       "  </tbody>\n",
       "</table>\n",
       "</div>"
      ],
      "text/plain": [
       "             montant  frequence_rech        revenue      frequence  \\\n",
       "count  400000.000000   400000.000000  400000.000000  400000.000000   \n",
       "mean     4638.184218        9.924307    4661.996512      12.284762   \n",
       "std      5846.168099       10.911098    5963.116995      12.183044   \n",
       "min        20.000000        1.000000       1.000000       1.000000   \n",
       "25%      2000.000000        4.000000    1900.000000       6.000000   \n",
       "50%      3000.000000        7.000000    3000.000000       9.000000   \n",
       "75%      4600.000000       10.000000    4698.000000      13.000000   \n",
       "max    226550.000000      133.000000  233413.000000      91.000000   \n",
       "\n",
       "        data_volume         on_net         orange           tigo  \\\n",
       "count  400000.00000  400000.000000  400000.000000  400000.000000   \n",
       "mean     1843.27709     185.175302      67.453243      12.880145   \n",
       "std      8888.92481     706.616942     159.985210      40.833450   \n",
       "min         0.00000       0.000000       0.000000       0.000000   \n",
       "25%       240.00000      12.000000      20.000000       6.000000   \n",
       "50%       268.00000      27.000000      28.000000       6.000000   \n",
       "75%       301.00000      55.000000      41.000000       6.000000   \n",
       "max    934576.00000   45011.000000    6788.000000    2758.000000   \n",
       "\n",
       "          regularity  freq_top_pack         churn        off_net  \\\n",
       "count  400000.000000  400000.000000  400000.00000  400000.000000   \n",
       "mean       28.046502       7.474577       0.18711      80.333388   \n",
       "std        22.282773       9.616928       0.39000     181.445622   \n",
       "min         1.000000       1.000000       0.00000       0.000000   \n",
       "25%         6.000000       4.000000       0.00000      27.000000   \n",
       "50%        24.000000       5.000000       0.00000      34.000000   \n",
       "75%        51.000000       6.000000       0.00000      51.000000   \n",
       "max        62.000000     629.000000       1.00000    6794.000000   \n",
       "\n",
       "         call_volume  \n",
       "count  400000.000000  \n",
       "mean      265.508690  \n",
       "std       774.165888  \n",
       "min         0.000000  \n",
       "25%        41.000000  \n",
       "50%        61.000000  \n",
       "75%       140.000000  \n",
       "max     45048.000000  "
      ]
     },
     "execution_count": 136,
     "metadata": {},
     "output_type": "execute_result"
    }
   ],
   "source": [
    "train.describe()"
   ]
  },
  {
   "cell_type": "markdown",
   "metadata": {},
   "source": [
    "### Scale the Numeric features (for train data only?)\n",
    "\n"
   ]
  },
  {
   "cell_type": "code",
   "execution_count": null,
   "metadata": {
    "collapsed": true
   },
   "outputs": [],
   "source": [
    "print(X_val.shape)\n",
    "print(X_train.shape)\n",
    "\n",
    "scaler = preprocessing.StandardScaler().fit(X_train[:,8:])\n",
    "X_train[:,8:] = scaler.transform(X_train[:,8:])\n",
    "X_val[:,8:] = scaler.transform(X_val[:,8:])\n",
    "X_train[:5,]"
   ]
  }
 ],
 "metadata": {
  "kernelspec": {
   "display_name": "Python 3",
   "language": "python",
   "name": "python3"
  },
  "language_info": {
   "codemirror_mode": {
    "name": "ipython",
    "version": 3
   },
   "file_extension": ".py",
   "mimetype": "text/x-python",
   "name": "python",
   "nbconvert_exporter": "python",
   "pygments_lexer": "ipython3",
   "version": "3.6.2"
  }
 },
 "nbformat": 4,
 "nbformat_minor": 2
}
